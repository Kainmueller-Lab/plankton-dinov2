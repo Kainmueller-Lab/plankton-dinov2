{
 "cells": [
  {
   "cell_type": "code",
   "execution_count": 1,
   "metadata": {},
   "outputs": [
    {
     "name": "stderr",
     "output_type": "stream",
     "text": [
      "/home/jluesch/Documents/GitHub/plankton-dinov2/dinov2/layers/swiglu_ffn.py:43: UserWarning: xFormers is available (SwiGLU)\n",
      "  warnings.warn(\"xFormers is available (SwiGLU)\")\n",
      "/home/jluesch/Documents/GitHub/plankton-dinov2/dinov2/layers/attention.py:27: UserWarning: xFormers is available (Attention)\n",
      "  warnings.warn(\"xFormers is available (Attention)\")\n",
      "/home/jluesch/Documents/GitHub/plankton-dinov2/dinov2/layers/block.py:33: UserWarning: xFormers is available (Block)\n",
      "  warnings.warn(\"xFormers is available (Block)\")\n"
     ]
    }
   ],
   "source": [
    "import torch\n",
    "\n",
    "from dinov2.fsdp import FSDPCheckpointer\n",
    "from dinov2.models.vision_transformer import DinoVisionTransformer\n"
   ]
  },
  {
   "cell_type": "code",
   "execution_count": 2,
   "metadata": {},
   "outputs": [],
   "source": [
    "ckpt_0 = '/home/jluesch/Documents/output_dir/run_05012024_141438/model_final.rank_0.pth'"
   ]
  },
  {
   "cell_type": "code",
   "execution_count": 3,
   "metadata": {},
   "outputs": [
    {
     "name": "stdout",
     "output_type": "stream",
     "text": [
      "111\n",
      "50949\n"
     ]
    }
   ],
   "source": [
    "import os\n",
    "import socket\n",
    "\n",
    "os.environ['RANK']='0'\n",
    "os.environ['WORLD_SIZE']='2'\n",
    "os.environ['MASTER_ADDR']='127.0.0.1'\n",
    "os.environ['MASTER_PORT']='0'\n",
    "\n",
    "with socket.socket(socket.AF_INET, socket.SOCK_STREAM) as s:\n",
    "    # A \"\" host address means INADDR_ANY i.e. binding to all interfaces.\n",
    "    # Note this is not compatible with IPv6.\n",
    "    s.bind((\"\", 0))\n",
    "    port = s.getsockname()[1]\n",
    "\n",
    "print(111)\n",
    "print(port)"
   ]
  },
  {
   "cell_type": "code",
   "execution_count": 4,
   "metadata": {},
   "outputs": [
    {
     "name": "stdout",
     "output_type": "stream",
     "text": [
      "0\n"
     ]
    }
   ],
   "source": [
    "print(os.environ['MASTER_PORT'])\n"
   ]
  },
  {
   "cell_type": "code",
   "execution_count": 5,
   "metadata": {},
   "outputs": [
    {
     "ename": "RuntimeError",
     "evalue": "Timed out initializing process group in store based barrier on rank: 0, for key: store_based_barrier_key:1 (world_size=2, worker_count=1, timeout=0:30:00)",
     "output_type": "error",
     "traceback": [
      "\u001b[0;31m---------------------------------------------------------------------------\u001b[0m",
      "\u001b[0;31mRuntimeError\u001b[0m                              Traceback (most recent call last)",
      "Cell \u001b[0;32mIn[5], line 3\u001b[0m\n\u001b[1;32m      1\u001b[0m \u001b[38;5;28;01mimport\u001b[39;00m \u001b[38;5;21;01mtorch\u001b[39;00m\u001b[38;5;21;01m.\u001b[39;00m\u001b[38;5;21;01mdistributed\u001b[39;00m \u001b[38;5;28;01mas\u001b[39;00m \u001b[38;5;21;01mtdist\u001b[39;00m\n\u001b[0;32m----> 3\u001b[0m \u001b[43mtdist\u001b[49m\u001b[38;5;241;43m.\u001b[39;49m\u001b[43minit_process_group\u001b[49m\u001b[43m(\u001b[49m\u001b[43mbackend\u001b[49m\u001b[38;5;241;43m=\u001b[39;49m\u001b[38;5;124;43m'\u001b[39;49m\u001b[38;5;124;43mnccl\u001b[39;49m\u001b[38;5;124;43m'\u001b[39;49m\u001b[43m)\u001b[49m\n",
      "File \u001b[0;32m~/micromamba/envs/dinov2/lib/python3.9/site-packages/torch/distributed/distributed_c10d.py:920\u001b[0m, in \u001b[0;36minit_process_group\u001b[0;34m(backend, init_method, timeout, world_size, rank, store, group_name, pg_options)\u001b[0m\n\u001b[1;32m    916\u001b[0m     barrier()\n\u001b[1;32m    917\u001b[0m \u001b[38;5;28;01melse\u001b[39;00m:\n\u001b[1;32m    918\u001b[0m     \u001b[38;5;66;03m# Use store based barrier here since barrier() used a bunch of\u001b[39;00m\n\u001b[1;32m    919\u001b[0m     \u001b[38;5;66;03m# default devices and messes up NCCL internal state.\u001b[39;00m\n\u001b[0;32m--> 920\u001b[0m     \u001b[43m_store_based_barrier\u001b[49m\u001b[43m(\u001b[49m\u001b[43mrank\u001b[49m\u001b[43m,\u001b[49m\u001b[43m \u001b[49m\u001b[43mstore\u001b[49m\u001b[43m,\u001b[49m\u001b[43m \u001b[49m\u001b[43mtimeout\u001b[49m\u001b[43m)\u001b[49m\n",
      "File \u001b[0;32m~/micromamba/envs/dinov2/lib/python3.9/site-packages/torch/distributed/distributed_c10d.py:459\u001b[0m, in \u001b[0;36m_store_based_barrier\u001b[0;34m(rank, store, timeout)\u001b[0m\n\u001b[1;32m    456\u001b[0m         log_time \u001b[38;5;241m=\u001b[39m time\u001b[38;5;241m.\u001b[39mtime()\n\u001b[1;32m    458\u001b[0m     \u001b[38;5;28;01mif\u001b[39;00m timedelta(seconds\u001b[38;5;241m=\u001b[39m(time\u001b[38;5;241m.\u001b[39mtime() \u001b[38;5;241m-\u001b[39m start)) \u001b[38;5;241m>\u001b[39m timeout:\n\u001b[0;32m--> 459\u001b[0m         \u001b[38;5;28;01mraise\u001b[39;00m \u001b[38;5;167;01mRuntimeError\u001b[39;00m(\n\u001b[1;32m    460\u001b[0m             \u001b[38;5;124m\"\u001b[39m\u001b[38;5;124mTimed out initializing process group in store based barrier on \u001b[39m\u001b[38;5;124m\"\u001b[39m\n\u001b[1;32m    461\u001b[0m             \u001b[38;5;124m\"\u001b[39m\u001b[38;5;124mrank: \u001b[39m\u001b[38;5;132;01m{}\u001b[39;00m\u001b[38;5;124m, for key: \u001b[39m\u001b[38;5;132;01m{}\u001b[39;00m\u001b[38;5;124m (world_size=\u001b[39m\u001b[38;5;132;01m{}\u001b[39;00m\u001b[38;5;124m, worker_count=\u001b[39m\u001b[38;5;132;01m{}\u001b[39;00m\u001b[38;5;124m, timeout=\u001b[39m\u001b[38;5;132;01m{}\u001b[39;00m\u001b[38;5;124m)\u001b[39m\u001b[38;5;124m\"\u001b[39m\u001b[38;5;241m.\u001b[39mformat(\n\u001b[1;32m    462\u001b[0m                 rank, store_key, world_size, worker_count, timeout\n\u001b[1;32m    463\u001b[0m             )\n\u001b[1;32m    464\u001b[0m         )\n\u001b[1;32m    466\u001b[0m logger\u001b[38;5;241m.\u001b[39minfo(\n\u001b[1;32m    467\u001b[0m     \u001b[38;5;124mf\u001b[39m\u001b[38;5;124m\"\u001b[39m\u001b[38;5;124mRank \u001b[39m\u001b[38;5;132;01m{\u001b[39;00mrank\u001b[38;5;132;01m}\u001b[39;00m\u001b[38;5;124m: Completed store-based barrier for key:\u001b[39m\u001b[38;5;132;01m{\u001b[39;00mstore_key\u001b[38;5;132;01m}\u001b[39;00m\u001b[38;5;124m with \u001b[39m\u001b[38;5;132;01m{\u001b[39;00mworld_size\u001b[38;5;132;01m}\u001b[39;00m\u001b[38;5;124m nodes.\u001b[39m\u001b[38;5;124m\"\u001b[39m\n\u001b[1;32m    468\u001b[0m )\n",
      "\u001b[0;31mRuntimeError\u001b[0m: Timed out initializing process group in store based barrier on rank: 0, for key: store_based_barrier_key:1 (world_size=2, worker_count=1, timeout=0:30:00)"
     ]
    }
   ],
   "source": [
    "import torch.distributed as tdist\n",
    "\n",
    "tdist.init_process_group(backend='nccl')"
   ]
  },
  {
   "cell_type": "code",
   "execution_count": null,
   "metadata": {},
   "outputs": [],
   "source": [
    "torch.load(ckpt_0, map_location='cpu')"
   ]
  },
  {
   "cell_type": "code",
   "execution_count": null,
   "metadata": {},
   "outputs": [],
   "source": []
  }
 ],
 "metadata": {
  "kernelspec": {
   "display_name": "dinov2",
   "language": "python",
   "name": "dinov2"
  },
  "language_info": {
   "codemirror_mode": {
    "name": "ipython",
    "version": 3
   },
   "file_extension": ".py",
   "mimetype": "text/x-python",
   "name": "python",
   "nbconvert_exporter": "python",
   "pygments_lexer": "ipython3",
   "version": "3.9.18"
  }
 },
 "nbformat": 4,
 "nbformat_minor": 2
}

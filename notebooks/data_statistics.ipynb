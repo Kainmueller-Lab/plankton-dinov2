{
 "cells": [
  {
   "cell_type": "code",
   "execution_count": null,
   "metadata": {},
   "outputs": [],
   "source": [
    "import os\n",
    "import h5py\n",
    "import json\n",
    "import pandas as pd"
   ]
  },
  {
   "cell_type": "code",
   "execution_count": null,
   "metadata": {},
   "outputs": [],
   "source": [
    "root = \"/home/jluesch/Documents/data/plankton\""
   ]
  },
  {
   "cell_type": "code",
   "execution_count": null,
   "metadata": {},
   "outputs": [],
   "source": [
    "files = os.listdir(root)"
   ]
  },
  {
   "cell_type": "code",
   "execution_count": null,
   "metadata": {},
   "outputs": [],
   "source": [
    "acc_ids = []\n",
    "acc_names = []\n",
    "\n",
    "all_files_entries = dict()\n",
    "class_names_dict = dict()\n",
    "for hdf5_file in files:\n",
    "    print(hdf5_file, end=\" \")\n",
    "    all_files_entries[hdf5_file] = []\n",
    "    class_ids = []\n",
    "    class_names = []\n",
    "    hdf5_file_path = os.path.join(root, hdf5_file)\n",
    "    file = h5py.File(hdf5_file_path, \"r\")\n",
    "\n",
    "    # Read the JSON string from the 'file_index' dataset\n",
    "    file_index_json = file[\"file_index\"][()]\n",
    "    file_index = json.loads(file_index_json)\n",
    "\n",
    "    # Add the HDF5 file name to each entry and accumulate the file entries\n",
    "    for entry in file_index[\"files\"]:\n",
    "        entry[\"hdf5_file\"] = hdf5_file_path  # Add the HDF5 file name to the entry\n",
    "        all_files_entries[hdf5_file].append(entry)\n",
    "        class_id = entry[\"class_id\"]\n",
    "        class_str = entry[\"class_str\"]\n",
    "        if class_id not in class_ids:\n",
    "            class_ids.append(class_id)\n",
    "            class_names.append(class_str)\n",
    "\n",
    "        if class_id not in acc_ids:\n",
    "            acc_ids.append(class_id)\n",
    "            acc_names.append(class_str)\n",
    "    class_names_dict[hdf5_file] = class_names\n",
    "\n",
    "    print(len(class_ids))"
   ]
  },
  {
   "cell_type": "code",
   "execution_count": null,
   "metadata": {},
   "outputs": [],
   "source": [
    "class_count = dict()\n",
    "for entry in entries[:10]:\n",
    "    print(entry)"
   ]
  },
  {
   "cell_type": "code",
   "execution_count": null,
   "metadata": {},
   "outputs": [],
   "source": [
    "len(acc_ids)"
   ]
  },
  {
   "cell_type": "code",
   "execution_count": null,
   "metadata": {},
   "outputs": [],
   "source": [
    "class_names_dict.keys()"
   ]
  },
  {
   "cell_type": "code",
   "execution_count": null,
   "metadata": {},
   "outputs": [],
   "source": [
    "all_names = set()\n",
    "for v in class_names_dict.values():\n",
    "    all_names = all_names.union(set(v))"
   ]
  },
  {
   "cell_type": "code",
   "execution_count": null,
   "metadata": {},
   "outputs": [],
   "source": [
    "print(len(all_names))"
   ]
  },
  {
   "cell_type": "code",
   "execution_count": null,
   "metadata": {},
   "outputs": [],
   "source": [
    "for k, v in class_names_dict.items():\n",
    "    print(k, \" missing :\", all_names.difference(set(v)))"
   ]
  },
  {
   "cell_type": "code",
   "execution_count": null,
   "metadata": {},
   "outputs": [],
   "source": []
  },
  {
   "cell_type": "code",
   "execution_count": null,
   "metadata": {},
   "outputs": [],
   "source": []
  },
  {
   "cell_type": "code",
   "execution_count": null,
   "metadata": {},
   "outputs": [],
   "source": []
  }
 ],
 "metadata": {
  "language_info": {
   "name": "python"
  }
 },
 "nbformat": 4,
 "nbformat_minor": 2
}

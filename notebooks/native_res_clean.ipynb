{
 "cells": [
  {
   "cell_type": "code",
   "execution_count": 1,
   "metadata": {},
   "outputs": [
    {
     "name": "stderr",
     "output_type": "stream",
     "text": [
      "/home/jluesch/micromamba/envs/dinov2/lib/python3.9/site-packages/torchvision/datapoints/__init__.py:12: UserWarning: The torchvision.datapoints and torchvision.transforms.v2 namespaces are still Beta. While we do not expect major breaking changes, some APIs may still change according to user feedback. Please submit any feedback you may have in this issue: https://github.com/pytorch/vision/issues/6753, and you can also check out https://github.com/pytorch/vision/issues/7319 to learn more about the APIs that we suspect might involve future changes. You can silence this warning by calling torchvision.disable_beta_transforms_warning().\n",
      "  warnings.warn(_BETA_TRANSFORMS_WARNING)\n",
      "/home/jluesch/micromamba/envs/dinov2/lib/python3.9/site-packages/torchvision/transforms/v2/__init__.py:54: UserWarning: The torchvision.datapoints and torchvision.transforms.v2 namespaces are still Beta. While we do not expect major breaking changes, some APIs may still change according to user feedback. Please submit any feedback you may have in this issue: https://github.com/pytorch/vision/issues/6753, and you can also check out https://github.com/pytorch/vision/issues/7319 to learn more about the APIs that we suspect might involve future changes. You can silence this warning by calling torchvision.disable_beta_transforms_warning().\n",
      "  warnings.warn(_BETA_TRANSFORMS_WARNING)\n",
      "/home/jluesch/Documents/GitHub/plankton-dinov2/notebooks/../dinov2/layers/attention.py:29: UserWarning: xFormers is available (Attention)\n",
      "  warnings.warn(\"xFormers is available (Attention)\")\n",
      "/home/jluesch/Documents/GitHub/plankton-dinov2/notebooks/../dinov2/layers/block.py:34: UserWarning: xFormers is available (Block)\n",
      "  warnings.warn(\"xFormers is available (Block)\")\n",
      "/home/jluesch/Documents/GitHub/plankton-dinov2/notebooks/../dinov2/layers/swiglu_ffn.py:43: UserWarning: xFormers is available (SwiGLU)\n",
      "  warnings.warn(\"xFormers is available (SwiGLU)\")\n"
     ]
    }
   ],
   "source": [
    "import sys\n",
    "\n",
    "sys.path.insert(0, \"..\")\n",
    "\n",
    "from dinov2.data.loaders import make_dataset\n",
    "import matplotlib.pyplot as plt\n",
    "from dinov2.data import DataAugmentationDINO\n",
    "\n",
    "import numpy as np\n",
    "import torch\n",
    "\n",
    "from dinov2.data.masking import MaskingGenerator\n",
    "from dinov2.data.collate import collate_data_and_cast\n",
    "from dinov2.data import make_data_loader\n",
    "\n",
    "from functools import partial\n",
    "\n",
    "from dinov2.models.vision_transformer import DinoVisionTransformer\n",
    "\n",
    "from dinov2.layers import (\n",
    "    MemEffAttention,\n",
    "    Mlp,\n",
    "    PatchEmbed,\n",
    "    SwiGLUFFNFused,\n",
    ")\n",
    "from dinov2.layers import (\n",
    "    NestedTensorBlock as Block,\n",
    ")\n",
    "\n",
    "\n",
    "root = \"/home/jluesch/Documents/data/plankton/nat_lmdb/\"\n",
    "ds_path = f\"LMDBDataset:split=TRAIN:root={root}:extra=*\""
   ]
  },
  {
   "cell_type": "code",
   "execution_count": 2,
   "metadata": {},
   "outputs": [
    {
     "name": "stdout",
     "output_type": "stream",
     "text": [
      "Dataset kwargs {'split': <_Split.TRAIN: 'train'>, 'root': '/home/jluesch/Documents/data/plankton/nat_lmdb/', 'extra': '*'}\n",
      "extra_path /home/jluesch/Documents/data/plankton/nat_lmdb/*-TRAIN_*\n",
      "Datasets labels file list:  ['/home/jluesch/Documents/data/plankton/nat_lmdb/2007-TRAIN_labels', '/home/jluesch/Documents/data/plankton/nat_lmdb/2008-TRAIN_labels', '/home/jluesch/Documents/data/plankton/nat_lmdb/2009-TRAIN_labels', '/home/jluesch/Documents/data/plankton/nat_lmdb/2010-TRAIN_labels', '/home/jluesch/Documents/data/plankton/nat_lmdb/2011-TRAIN_labels', '/home/jluesch/Documents/data/plankton/nat_lmdb/2012-TRAIN_labels', '/home/jluesch/Documents/data/plankton/nat_lmdb/2013-TRAIN_labels', '/home/jluesch/Documents/data/plankton/nat_lmdb/2014-TRAIN_labels']\n",
      "Datasets imgs file list:  ['/home/jluesch/Documents/data/plankton/nat_lmdb/2007-TRAIN_imgs', '/home/jluesch/Documents/data/plankton/nat_lmdb/2008-TRAIN_imgs', '/home/jluesch/Documents/data/plankton/nat_lmdb/2009-TRAIN_imgs', '/home/jluesch/Documents/data/plankton/nat_lmdb/2010-TRAIN_imgs', '/home/jluesch/Documents/data/plankton/nat_lmdb/2011-TRAIN_imgs', '/home/jluesch/Documents/data/plankton/nat_lmdb/2012-TRAIN_imgs', '/home/jluesch/Documents/data/plankton/nat_lmdb/2013-TRAIN_imgs', '/home/jluesch/Documents/data/plankton/nat_lmdb/2014-TRAIN_imgs']\n",
      "lmdb_env_imgs.stat() {'psize': 4096, 'depth': 4, 'branch_pages': 904, 'leaf_pages': 119859, 'overflow_pages': 336375, 'entries': 289020}\n",
      "lmdb_env_imgs.stat() {'psize': 4096, 'depth': 3, 'branch_pages': 39, 'leaf_pages': 5028, 'overflow_pages': 503773, 'entries': 443660}\n",
      "lmdb_env_imgs.stat() {'psize': 4096, 'depth': 3, 'branch_pages': 65, 'leaf_pages': 8572, 'overflow_pages': 856950, 'entries': 752998}\n",
      "lmdb_env_imgs.stat() {'psize': 4096, 'depth': 3, 'branch_pages': 155, 'leaf_pages': 21332, 'overflow_pages': 363290, 'entries': 345381}\n",
      "lmdb_env_imgs.stat() {'psize': 4096, 'depth': 4, 'branch_pages': 419, 'leaf_pages': 54959, 'overflow_pages': 375588, 'entries': 439194}\n",
      "lmdb_env_imgs.stat() {'psize': 4096, 'depth': 4, 'branch_pages': 1043, 'leaf_pages': 135539, 'overflow_pages': 228467, 'entries': 401932}\n",
      "lmdb_env_imgs.stat() {'psize': 4096, 'depth': 4, 'branch_pages': 1326, 'leaf_pages': 174458, 'overflow_pages': 182436, 'entries': 421238}\n",
      "lmdb_env_imgs.stat() {'psize': 4096, 'depth': 4, 'branch_pages': 1025, 'leaf_pages': 134098, 'overflow_pages': 137438, 'entries': 329832}\n",
      "#unique_class_ids: _Split.TRAIN, 102\n"
     ]
    }
   ],
   "source": [
    "global_crops_size = 224\n",
    "local_crops_size = 98\n",
    "patch_size = 14\n",
    "\n",
    "data_transform_cpu = DataAugmentationDINO(\n",
    "    global_crops_scale=[0.32, 0.8],\n",
    "    local_crops_scale=[0.05, 0.32],\n",
    "    local_crops_number=6,\n",
    "    global_crops_size=global_crops_size,\n",
    "    local_crops_size=local_crops_size,\n",
    "    use_kornia=True,\n",
    "    use_native_res=True,\n",
    "    do_seg_crops=True,\n",
    "    patch_size=patch_size,\n",
    ")\n",
    "\n",
    "dataset = make_dataset(\n",
    "    dataset_str=ds_path,\n",
    "    transform=data_transform_cpu,\n",
    "    target_transform=lambda x: (),\n",
    "    with_targets=False,\n",
    "    cache_dataset=False,\n",
    ")"
   ]
  },
  {
   "cell_type": "code",
   "execution_count": 10,
   "metadata": {},
   "outputs": [],
   "source": [
    "nb_patches_gc = global_crops_size // patch_size\n",
    "\n",
    "mask_generator = MaskingGenerator(\n",
    "    input_size=(nb_patches_gc, nb_patches_gc),\n",
    "    max_num_patches=0.5 * nb_patches_gc * nb_patches_gc,\n",
    ")\n",
    "\n",
    "\n",
    "def list_collate(batch):\n",
    "    data = [item[0] for item in batch]\n",
    "    target = [item[1] for item in batch]\n",
    "    target = torch.LongTensor(target)\n",
    "    return [data, target]\n",
    "\n",
    "\n",
    "n_tokens = (global_crops_size // patch_size) ** 2\n",
    "collate_fn = partial(\n",
    "    collate_data_and_cast,\n",
    "    mask_ratio_tuple=(0.1, 0.5),\n",
    "    mask_probability=0.5,\n",
    "    n_tokens=n_tokens,\n",
    "    mask_generator=mask_generator,\n",
    "    dtype=torch.half,\n",
    "    free_shapes=True,\n",
    ")\n",
    "\n",
    "data_loader = make_data_loader(\n",
    "    dataset=dataset,\n",
    "    batch_size=16,\n",
    "    num_workers=8,\n",
    "    shuffle=True,\n",
    "    seed=0,\n",
    "    sampler_type=None,\n",
    "    sampler_advance=0,\n",
    "    drop_last=True,\n",
    "    collate_fn=collate_fn,\n",
    ")"
   ]
  },
  {
   "cell_type": "code",
   "execution_count": 11,
   "metadata": {},
   "outputs": [],
   "source": [
    "model = DinoVisionTransformer(\n",
    "    patch_size=patch_size,\n",
    "    embed_dim=384,\n",
    "    depth=12,\n",
    "    num_heads=6,\n",
    "    mlp_ratio=4,\n",
    "    block_fn=partial(Block, attn_class=MemEffAttention),\n",
    "    num_register_tokens=0,\n",
    "    img_size=global_crops_size,\n",
    "    in_chans=3,\n",
    "    drop_path_rate=0.0,\n",
    "    drop_path_uniform=True,\n",
    "    init_values=1.0e-05,  # for layerscale: None or 0 => no layerscale\n",
    "    embed_layer=PatchEmbed,\n",
    "    ffn_layer=\"mlp\",\n",
    "    block_chunks=1,\n",
    "    interpolate_antialias=False,\n",
    "    interpolate_offset=0.1,\n",
    ")"
   ]
  },
  {
   "cell_type": "code",
   "execution_count": 18,
   "metadata": {},
   "outputs": [
    {
     "name": "stdout",
     "output_type": "stream",
     "text": [
      "coll_global_crops torch.Size([32, 3, 14, 4060])\n",
      "coll_local_crops torch.Size([16, 3, 14, 4060])\n",
      "0\n",
      "coll_global_crops torch.Size([32, 3, 14, 4032])\n",
      "coll_local_crops torch.Size([16, 3, 14, 4032])\n",
      "25\n",
      "50\n",
      "coll_global_crops torch.Size([32, 3, 14, 4032])\n",
      "coll_local_crops torch.Size([16, 3, 14, 4032])\n",
      "75\n",
      "coll_global_crops torch.Size([32, 3, 14, 4144])\n",
      "coll_local_crops torch.Size([16, 3, 14, 4144])\n",
      "100\n",
      "coll_global_crops torch.Size([32, 3, 14, 4032])\n",
      "coll_local_crops torch.Size([16, 3, 14, 4032])\n",
      "coll_global_crops torch.Size([32, 3, 14, 4032])\n",
      "coll_local_crops torch.Size([16, 3, 14, 4032])\n",
      "coll_global_crops torch.Size([32, 3, 14, 4032])\n",
      "coll_local_crops torch.Size([16, 3, 14, 4032])\n",
      "coll_global_crops torch.Size([32, 3, 14, 4032])\n",
      "coll_local_crops torch.Size([16, 3, 14, 4032])\n",
      "coll_global_crops torch.Size([32, 3, 14, 4032])\n",
      "coll_local_crops torch.Size([16, 3, 14, 4032])\n",
      "coll_global_crops torch.Size([32, 3, 14, 4144])\n",
      "coll_local_crops torch.Size([16, 3, 14, 4144])\n",
      "125\n",
      "coll_global_crops torch.Size([32, 3, 14, 4032])\n",
      "coll_local_crops torch.Size([16, 3, 14, 4032])\n",
      "150\n",
      "coll_global_crops torch.Size([32, 3, 14, 4032])\n",
      "coll_local_crops torch.Size([16, 3, 14, 4032])\n",
      "coll_global_crops torch.Size([32, 3, 14, 4004])\n",
      "coll_local_crops torch.Size([16, 3, 14, 4004])\n",
      "coll_global_crops torch.Size([32, 3, 14, 4032])\n",
      "coll_local_crops torch.Size([16, 3, 14, 4032])\n",
      "175\n",
      "coll_global_crops torch.Size([32, 3, 14, 4032])\n",
      "coll_local_crops torch.Size([16, 3, 14, 4032])\n",
      "coll_global_crops torch.Size([32, 3, 14, 4032])\n",
      "coll_local_crops torch.Size([16, 3, 14, 4032])\n",
      "coll_global_crops torch.Size([32, 3, 14, 4032])\n",
      "coll_local_crops torch.Size([16, 3, 14, 4032])\n",
      "200\n",
      "coll_global_crops torch.Size([32, 3, 14, 4340])\n",
      "coll_local_crops torch.Size([16, 3, 14, 4340])\n",
      "coll_global_crops torch.Size([32, 3, 14, 4032])\n",
      "coll_local_crops torch.Size([16, 3, 14, 4032])\n",
      "coll_global_crops torch.Size([32, 3, 14, 4032])\n",
      "coll_local_crops torch.Size([16, 3, 14, 4032])\n",
      "225\n",
      "coll_global_crops torch.Size([32, 3, 14, 4004])\n",
      "coll_local_crops torch.Size([16, 3, 14, 4004])\n",
      "250\n",
      "coll_global_crops torch.Size([32, 3, 14, 4032])\n",
      "coll_local_crops torch.Size([16, 3, 14, 4032])\n",
      "coll_global_crops torch.Size([32, 3, 14, 4032])\n",
      "coll_local_crops torch.Size([16, 3, 14, 4032])\n",
      "coll_global_crops torch.Size([32, 3, 14, 4004])\n",
      "coll_local_crops torch.Size([16, 3, 14, 4004])\n",
      "275\n",
      "coll_global_crops torch.Size([32, 3, 14, 4060])\n",
      "coll_local_crops torch.Size([16, 3, 14, 4060])\n",
      "300\n"
     ]
    }
   ],
   "source": [
    "mem_list, max_mem_list, shapes_list = [], [], []\n",
    "model.cuda()\n",
    "with torch.cuda.amp.autocast():\n",
    "    with torch.no_grad():\n",
    "        for i, el in enumerate(data_loader):\n",
    "            if not i % 25:\n",
    "                print(i)\n",
    "            if i > 300:\n",
    "                break\n",
    "            if isinstance(el, list):\n",
    "                el = el[0]\n",
    "            if isinstance(el, dict):\n",
    "                collated_dict = el\n",
    "\n",
    "            # list of len batch size containing dicts\n",
    "            # collated_dict = collate_fn(el)\n",
    "\n",
    "            mem_list.append(np.round(torch.cuda.memory_allocated() / 1024 / 1024, 2))\n",
    "            max_mem_list.append(\n",
    "                np.round(torch.cuda.max_memory_allocated() / 1024 / 1024, 2)\n",
    "            )\n",
    "            shapes_list.append(collated_dict['collated_global_crops'].size(-1))\n",
    "\n",
    "            out = model(\n",
    "                [\n",
    "                    collated_dict[\"collated_global_crops\"].cuda(),\n",
    "                    collated_dict[\"collated_local_crops\"].cuda(),\n",
    "                ],\n",
    "                masks=[collated_dict[\"collated_masks\"].cuda(), None],\n",
    "                is_training=True,\n",
    "                # attn_masks=[collated_dict[\"attn_mask_gc\"].cuda(),collated_dict[\"attn_mask_lc\"].cuda()]\n",
    "            )\n",
    "            # print(\"out gc + lc\", out[0][\"x_norm_clstoken\"].shape)\n",
    "\n",
    "            out = model(\n",
    "                collated_dict[\"collated_global_crops\"].cuda(),\n",
    "                masks=collated_dict[\"collated_masks\"].cuda(),\n",
    "                is_training=True,\n",
    "                # attn_masks=[collated_dict[\"attn_mask_gc\"].cuda(),collated_dict[\"attn_mask_lc\"].cuda()]\n",
    "            )\n",
    "            # print(\"out gc\", out[\"x_norm_clstoken\"].shape)"
   ]
  },
  {
   "cell_type": "code",
   "execution_count": 19,
   "metadata": {},
   "outputs": [
    {
     "data": {
      "image/png": "[encoded data removed]",
      "text/plain": [
       "<Figure size 640x480 with 3 Axes>"
      ]
     },
     "metadata": {},
     "output_type": "display_data"
    }
   ],
   "source": [
    "f, a = plt.subplots(3, 1)\n",
    "a[0].plot(mem_list)\n",
    "a[1].plot(max_mem_list)\n",
    "a[2].plot(shapes_list)\n",
    "plt.show()"
   ]
  },
  {
   "cell_type": "code",
   "execution_count": null,
   "metadata": {},
   "outputs": [],
   "source": []
  },
  {
   "cell_type": "code",
   "execution_count": null,
   "metadata": {},
   "outputs": [],
   "source": []
  },
  {
   "cell_type": "code",
   "execution_count": null,
   "metadata": {},
   "outputs": [],
   "source": []
  },
  {
   "cell_type": "code",
   "execution_count": null,
   "metadata": {},
   "outputs": [],
   "source": []
  },
  {
   "cell_type": "code",
   "execution_count": null,
   "metadata": {},
   "outputs": [],
   "source": []
  },
  {
   "cell_type": "code",
   "execution_count": null,
   "metadata": {},
   "outputs": [],
   "source": []
  },
  {
   "cell_type": "code",
   "execution_count": 9,
   "metadata": {},
   "outputs": [
    {
     "ename": "KeyError",
     "evalue": "0",
     "output_type": "error",
     "traceback": [
      "\u001b[0;31m---------------------------------------------------------------------------\u001b[0m",
      "\u001b[0;31mKeyError\u001b[0m                                  Traceback (most recent call last)",
      "Cell \u001b[0;32mIn[9], line 2\u001b[0m\n\u001b[1;32m      1\u001b[0m \u001b[38;5;28;01mfor\u001b[39;00m i \u001b[38;5;129;01min\u001b[39;00m \u001b[38;5;28mrange\u001b[39m(\u001b[38;5;28mlen\u001b[39m(out)):\n\u001b[0;32m----> 2\u001b[0m     \u001b[38;5;28;01mfor\u001b[39;00m k \u001b[38;5;129;01min\u001b[39;00m \u001b[43mout\u001b[49m\u001b[43m[\u001b[49m\u001b[43mi\u001b[49m\u001b[43m]\u001b[49m\u001b[38;5;241m.\u001b[39mkeys():\n\u001b[1;32m      3\u001b[0m         \u001b[38;5;28;01mif\u001b[39;00m out[i][k] \u001b[38;5;129;01mis\u001b[39;00m \u001b[38;5;129;01mnot\u001b[39;00m \u001b[38;5;28;01mNone\u001b[39;00m:\n\u001b[1;32m      4\u001b[0m             \u001b[38;5;28mprint\u001b[39m(k, out[i][k]\u001b[38;5;241m.\u001b[39mshape)\n",
      "\u001b[0;31mKeyError\u001b[0m: 0"
     ]
    }
   ],
   "source": [
    "for i in range(len(out)):\n",
    "    for k in out[i].keys():\n",
    "        if out[i][k] is not None:\n",
    "            print(k, out[i][k].shape)"
   ]
  },
  {
   "cell_type": "code",
   "execution_count": null,
   "metadata": {},
   "outputs": [],
   "source": []
  },
  {
   "cell_type": "code",
   "execution_count": null,
   "metadata": {},
   "outputs": [],
   "source": []
  },
  {
   "cell_type": "code",
   "execution_count": null,
   "metadata": {},
   "outputs": [],
   "source": []
  },
  {
   "cell_type": "code",
   "execution_count": null,
   "metadata": {},
   "outputs": [],
   "source": []
  },
  {
   "cell_type": "code",
   "execution_count": null,
   "metadata": {},
   "outputs": [],
   "source": []
  }
 ],
 "metadata": {
  "kernelspec": {
   "display_name": "Python 3",
   "language": "python",
   "name": "python3"
  },
  "language_info": {
   "codemirror_mode": {
    "name": "ipython",
    "version": 3
   },
   "file_extension": ".py",
   "mimetype": "text/x-python",
   "name": "python",
   "nbconvert_exporter": "python",
   "pygments_lexer": "ipython3",
   "version": "3.9.18"
  }
 },
 "nbformat": 4,
 "nbformat_minor": 2
}

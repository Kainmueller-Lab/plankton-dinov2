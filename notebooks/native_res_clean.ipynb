{
 "cells": [
  {
   "cell_type": "code",
   "execution_count": 1,
   "metadata": {},
   "outputs": [
    {
     "name": "stderr",
     "output_type": "stream",
     "text": [
      "/home/jluesch/Documents/GitHub/plankton-dinov2/notebooks/../dinov2/layers/attention.py:29: UserWarning: xFormers is available (Attention)\n",
      "  warnings.warn(\"xFormers is available (Attention)\")\n",
      "/home/jluesch/Documents/GitHub/plankton-dinov2/notebooks/../dinov2/layers/block.py:34: UserWarning: xFormers is available (Block)\n",
      "  warnings.warn(\"xFormers is available (Block)\")\n",
      "/home/jluesch/Documents/GitHub/plankton-dinov2/notebooks/../dinov2/layers/swiglu_ffn.py:43: UserWarning: xFormers is available (SwiGLU)\n",
      "  warnings.warn(\"xFormers is available (SwiGLU)\")\n"
     ]
    }
   ],
   "source": [
    "import sys\n",
    "\n",
    "sys.path.insert(0, \"..\")\n",
    "\n",
    "from dinov2.data.loaders import make_dataset\n",
    "import matplotlib.pyplot as plt\n",
    "from dinov2.data import DataAugmentationDINO\n",
    "\n",
    "import numpy as np\n",
    "import torch\n",
    "\n",
    "from dinov2.data.masking import MaskingGenerator\n",
    "from dinov2.data.collate import collate_data_and_cast\n",
    "from dinov2.data import make_data_loader\n",
    "\n",
    "from functools import partial\n",
    "\n",
    "from dinov2.models.vision_transformer import DinoVisionTransformer\n",
    "\n",
    "from dinov2.layers import (\n",
    "    MemEffAttention,\n",
    "    Mlp,\n",
    "    PatchEmbed,\n",
    "    SwiGLUFFNFused,\n",
    ")\n",
    "from dinov2.layers import (\n",
    "    NestedTensorBlock as Block,\n",
    ")\n",
    "\n",
    "\n",
    "root = \"/home/jluesch/Documents/data/plankton/ankita_test_1mio_lmdb/\"\n",
    "ds_path = f\"LMDBDataset:split=TRAIN:root={root}:extra=*\""
   ]
  },
  {
   "cell_type": "code",
   "execution_count": 2,
   "metadata": {},
   "outputs": [
    {
     "name": "stdout",
     "output_type": "stream",
     "text": [
      "Dataset kwargs {'split': <_Split.TRAIN: 'train'>, 'root': '/home/jluesch/Documents/data/plankton/ankita_test_1mio_lmdb/', 'extra': '*'}\n",
      "extra_path /home/jluesch/Documents/data/plankton/ankita_test_1mio_lmdb/*-TRAIN_*\n",
      "Datasets labels file list:  []\n",
      "Datasets imgs file list:  ['/home/jluesch/Documents/data/plankton/ankita_test_1mio_lmdb/helgoland_2020-TRAIN_imgs']\n",
      "aaaa\n",
      "/home/jluesch/Documents/data/plankton/ankita_test_1mio_lmdb/helgoland_2020-TRAIN_imgs lmdb_env_imgs.stat() {'psize': 4096, 'depth': 3, 'branch_pages': 67, 'leaf_pages': 12514, 'overflow_pages': 4525829, 'entries': 1186534}\n"
     ]
    },
    {
     "ename": "UnicodeDecodeError",
     "evalue": "'utf-8' codec can't decode byte 0x80 in position 1: invalid start byte",
     "output_type": "error",
     "traceback": [
      "\u001b[0;31m---------------------------------------------------------------------------\u001b[0m",
      "\u001b[0;31mUnicodeDecodeError\u001b[0m                        Traceback (most recent call last)",
      "Cell \u001b[0;32mIn[2], line 19\u001b[0m\n\u001b[1;32m      6\u001b[0m na_vit \u001b[38;5;241m=\u001b[39m \u001b[38;5;28;01mTrue\u001b[39;00m\n\u001b[1;32m      7\u001b[0m data_transform_cpu \u001b[38;5;241m=\u001b[39m DataAugmentationDINO(\n\u001b[1;32m      8\u001b[0m     global_crops_scale\u001b[38;5;241m=\u001b[39m[\u001b[38;5;241m0.32\u001b[39m, \u001b[38;5;241m0.8\u001b[39m],\n\u001b[1;32m      9\u001b[0m     local_crops_scale\u001b[38;5;241m=\u001b[39m[\u001b[38;5;241m0.05\u001b[39m, \u001b[38;5;241m0.32\u001b[39m],\n\u001b[0;32m   (...)\u001b[0m\n\u001b[1;32m     16\u001b[0m     patch_size\u001b[38;5;241m=\u001b[39mpatch_size,\n\u001b[1;32m     17\u001b[0m )\n\u001b[0;32m---> 19\u001b[0m dataset \u001b[38;5;241m=\u001b[39m \u001b[43mmake_dataset\u001b[49m\u001b[43m(\u001b[49m\n\u001b[1;32m     20\u001b[0m \u001b[43m    \u001b[49m\u001b[43mdataset_str\u001b[49m\u001b[38;5;241;43m=\u001b[39;49m\u001b[43mds_path\u001b[49m\u001b[43m,\u001b[49m\n\u001b[1;32m     21\u001b[0m \u001b[43m    \u001b[49m\u001b[43mtransform\u001b[49m\u001b[38;5;241;43m=\u001b[39;49m\u001b[43mdata_transform_cpu\u001b[49m\u001b[43m,\u001b[49m\n\u001b[1;32m     22\u001b[0m \u001b[43m    \u001b[49m\u001b[43mtarget_transform\u001b[49m\u001b[38;5;241;43m=\u001b[39;49m\u001b[38;5;28;43;01mlambda\u001b[39;49;00m\u001b[43m \u001b[49m\u001b[43mx\u001b[49m\u001b[43m:\u001b[49m\u001b[43m \u001b[49m\u001b[43m(\u001b[49m\u001b[43m)\u001b[49m\u001b[43m,\u001b[49m\n\u001b[1;32m     23\u001b[0m \u001b[43m    \u001b[49m\u001b[43mwith_targets\u001b[49m\u001b[38;5;241;43m=\u001b[39;49m\u001b[38;5;28;43;01mFalse\u001b[39;49;00m\u001b[43m,\u001b[49m\n\u001b[1;32m     24\u001b[0m \u001b[43m    \u001b[49m\u001b[43mcache_dataset\u001b[49m\u001b[38;5;241;43m=\u001b[39;49m\u001b[38;5;28;43;01mFalse\u001b[39;49;00m\u001b[43m,\u001b[49m\n\u001b[1;32m     25\u001b[0m \u001b[43m)\u001b[49m\n",
      "File \u001b[0;32m~/Documents/GitHub/plankton-dinov2/notebooks/../dinov2/data/loaders.py:117\u001b[0m, in \u001b[0;36mmake_dataset\u001b[0;34m(dataset_str, transform, target_transform, with_targets, cache_dataset)\u001b[0m\n\u001b[1;32m    108\u001b[0m \u001b[38;5;28mprint\u001b[39m(\u001b[38;5;124m\"\u001b[39m\u001b[38;5;124mDataset kwargs\u001b[39m\u001b[38;5;124m\"\u001b[39m, kwargs)\n\u001b[1;32m    109\u001b[0m dataset \u001b[38;5;241m=\u001b[39m class_(\n\u001b[1;32m    110\u001b[0m     transform\u001b[38;5;241m=\u001b[39mtransform,\n\u001b[1;32m    111\u001b[0m     target_transform\u001b[38;5;241m=\u001b[39mtarget_transform,\n\u001b[0;32m   (...)\u001b[0m\n\u001b[1;32m    114\u001b[0m     \u001b[38;5;241m*\u001b[39m\u001b[38;5;241m*\u001b[39mkwargs,\n\u001b[1;32m    115\u001b[0m )\n\u001b[0;32m--> 117\u001b[0m logger\u001b[38;5;241m.\u001b[39minfo(\u001b[38;5;124mf\u001b[39m\u001b[38;5;124m\"\u001b[39m\u001b[38;5;124m# of dataset samples: \u001b[39m\u001b[38;5;132;01m{\u001b[39;00m\u001b[38;5;28mlen\u001b[39m(dataset)\u001b[38;5;132;01m:\u001b[39;00m\u001b[38;5;124m,d\u001b[39m\u001b[38;5;132;01m}\u001b[39;00m\u001b[38;5;124m\"\u001b[39m)\n\u001b[1;32m    119\u001b[0m \u001b[38;5;66;03m# Aggregated datasets do not expose (yet) these attributes, so add them.\u001b[39;00m\n\u001b[1;32m    120\u001b[0m \u001b[38;5;28;01mif\u001b[39;00m \u001b[38;5;129;01mnot\u001b[39;00m \u001b[38;5;28mhasattr\u001b[39m(dataset, \u001b[38;5;124m\"\u001b[39m\u001b[38;5;124mtransform\u001b[39m\u001b[38;5;124m\"\u001b[39m):\n",
      "File \u001b[0;32m~/Documents/GitHub/plankton-dinov2/notebooks/../dinov2/data/datasets/lmdb_dataset.py:155\u001b[0m, in \u001b[0;36mLMDBDataset.__len__\u001b[0;34m(self)\u001b[0m\n\u001b[1;32m    154\u001b[0m \u001b[38;5;28;01mdef\u001b[39;00m \u001b[38;5;21m__len__\u001b[39m(\u001b[38;5;28mself\u001b[39m) \u001b[38;5;241m-\u001b[39m\u001b[38;5;241m>\u001b[39m \u001b[38;5;28mint\u001b[39m:\n\u001b[0;32m--> 155\u001b[0m     entries \u001b[38;5;241m=\u001b[39m \u001b[38;5;28;43mself\u001b[39;49m\u001b[38;5;241;43m.\u001b[39;49m\u001b[43m_get_entries\u001b[49m\u001b[43m(\u001b[49m\u001b[43m)\u001b[49m\n\u001b[1;32m    156\u001b[0m     \u001b[38;5;28;01mreturn\u001b[39;00m \u001b[38;5;28mlen\u001b[39m(entries)\n",
      "File \u001b[0;32m~/Documents/GitHub/plankton-dinov2/notebooks/../dinov2/data/datasets/lmdb_dataset.py:67\u001b[0m, in \u001b[0;36mLMDBDataset._get_entries\u001b[0;34m(self)\u001b[0m\n\u001b[1;32m     65\u001b[0m \u001b[38;5;28;01mdef\u001b[39;00m \u001b[38;5;21m_get_entries\u001b[39m(\u001b[38;5;28mself\u001b[39m) \u001b[38;5;241m-\u001b[39m\u001b[38;5;241m>\u001b[39m \u001b[38;5;28mlist\u001b[39m:\n\u001b[1;32m     66\u001b[0m     \u001b[38;5;28;01mif\u001b[39;00m \u001b[38;5;28mself\u001b[39m\u001b[38;5;241m.\u001b[39m_entries \u001b[38;5;129;01mis\u001b[39;00m \u001b[38;5;28;01mNone\u001b[39;00m:\n\u001b[0;32m---> 67\u001b[0m         \u001b[38;5;28;43mself\u001b[39;49m\u001b[38;5;241;43m.\u001b[39;49m\u001b[43m_load_extra\u001b[49m\u001b[43m(\u001b[49m\u001b[38;5;28;43mself\u001b[39;49m\u001b[38;5;241;43m.\u001b[39;49m\u001b[43m_entries_path\u001b[49m\u001b[43m)\u001b[49m\n\u001b[1;32m     68\u001b[0m     \u001b[38;5;28;01massert\u001b[39;00m \u001b[38;5;28mself\u001b[39m\u001b[38;5;241m.\u001b[39m_entries \u001b[38;5;129;01mis\u001b[39;00m \u001b[38;5;129;01mnot\u001b[39;00m \u001b[38;5;28;01mNone\u001b[39;00m\n\u001b[1;32m     69\u001b[0m     \u001b[38;5;28;01mreturn\u001b[39;00m \u001b[38;5;28mself\u001b[39m\u001b[38;5;241m.\u001b[39m_entries\n",
      "File \u001b[0;32m~/Documents/GitHub/plankton-dinov2/notebooks/../dinov2/data/datasets/lmdb_dataset.py:132\u001b[0m, in \u001b[0;36mLMDBDataset._load_extra\u001b[0;34m(self, extra_path)\u001b[0m\n\u001b[1;32m    130\u001b[0m \u001b[38;5;28;01mfor\u001b[39;00m key, value \u001b[38;5;129;01min\u001b[39;00m lmdb_cursor:\n\u001b[1;32m    131\u001b[0m     entry \u001b[38;5;241m=\u001b[39m \u001b[38;5;28mdict\u001b[39m()\n\u001b[0;32m--> 132\u001b[0m     entry[\u001b[38;5;124m\"\u001b[39m\u001b[38;5;124mindex\u001b[39m\u001b[38;5;124m\"\u001b[39m] \u001b[38;5;241m=\u001b[39m \u001b[43mkey\u001b[49m\u001b[38;5;241;43m.\u001b[39;49m\u001b[43mdecode\u001b[49m\u001b[43m(\u001b[49m\u001b[43m)\u001b[49m\n\u001b[1;32m    133\u001b[0m     \u001b[38;5;28;01mif\u001b[39;00m \u001b[38;5;28mself\u001b[39m\u001b[38;5;241m.\u001b[39mwith_targets \u001b[38;5;129;01mand\u001b[39;00m \u001b[38;5;28mlen\u001b[39m(file_list_labels) \u001b[38;5;241m>\u001b[39m \u001b[38;5;241m0\u001b[39m:\n\u001b[1;32m    134\u001b[0m         entry[\u001b[38;5;124m\"\u001b[39m\u001b[38;5;124mclass_id\u001b[39m\u001b[38;5;124m\"\u001b[39m] \u001b[38;5;241m=\u001b[39m \u001b[38;5;28mint\u001b[39m(value\u001b[38;5;241m.\u001b[39mdecode())\n",
      "\u001b[0;31mUnicodeDecodeError\u001b[0m: 'utf-8' codec can't decode byte 0x80 in position 1: invalid start byte"
     ]
    }
   ],
   "source": [
    "global_crops_size = 224\n",
    "local_crops_size = 98\n",
    "patch_size = 14\n",
    "\n",
    "do_seg_crops = \"slic\"\n",
    "na_vit = True\n",
    "data_transform_cpu = DataAugmentationDINO(\n",
    "    global_crops_scale=[0.32, 0.8],\n",
    "    local_crops_scale=[0.05, 0.32],\n",
    "    local_crops_number=6,\n",
    "    global_crops_size=global_crops_size,\n",
    "    local_crops_size=local_crops_size,\n",
    "    use_kornia=True,\n",
    "    use_native_res=na_vit,\n",
    "    do_seg_crops=do_seg_crops,\n",
    "    patch_size=patch_size,\n",
    ")\n",
    "\n",
    "dataset = make_dataset(\n",
    "    dataset_str=ds_path,\n",
    "    transform=data_transform_cpu,\n",
    "    target_transform=lambda x: (),\n",
    "    with_targets=False,\n",
    "    cache_dataset=False,\n",
    ")"
   ]
  },
  {
   "cell_type": "code",
   "execution_count": 17,
   "metadata": {},
   "outputs": [],
   "source": [
    "nb_patches_gc = global_crops_size // patch_size\n",
    "\n",
    "mask_generator = MaskingGenerator(\n",
    "    input_size=(nb_patches_gc, nb_patches_gc),\n",
    "    max_num_patches=0.5 * nb_patches_gc * nb_patches_gc,\n",
    ")\n",
    "\n",
    "def list_collate(batch):\n",
    "    data = [item[0] for item in batch]\n",
    "    target = [item[1] for item in batch]\n",
    "    target = torch.LongTensor(target)\n",
    "    return [data, target]\n",
    "\n",
    "n_tokens = (global_crops_size // patch_size) ** 2\n",
    "collate_fn = partial(\n",
    "    collate_data_and_cast,\n",
    "    mask_ratio_tuple=(0.1, 0.5),\n",
    "    mask_probability=0.5,\n",
    "    n_tokens=n_tokens,\n",
    "    mask_generator=mask_generator,\n",
    "    dtype=torch.half,\n",
    "    free_shapes=do_seg_crops,\n",
    ")\n",
    "\n",
    "data_loader = make_data_loader(\n",
    "    dataset=dataset,\n",
    "    batch_size=16,\n",
    "    num_workers=8,\n",
    "    shuffle=True,\n",
    "    seed=0,\n",
    "    sampler_type=None,\n",
    "    sampler_advance=0,\n",
    "    drop_last=True,\n",
    "    collate_fn=collate_fn,\n",
    ")"
   ]
  },
  {
   "cell_type": "code",
   "execution_count": 8,
   "metadata": {},
   "outputs": [],
   "source": [
    "model = DinoVisionTransformer(\n",
    "    patch_size=patch_size,\n",
    "    embed_dim=384,\n",
    "    depth=12,\n",
    "    num_heads=6,\n",
    "    mlp_ratio=4,\n",
    "    block_fn=partial(Block, attn_class=MemEffAttention),\n",
    "    num_register_tokens=0,\n",
    "    img_size=global_crops_size,\n",
    "    in_chans=3,\n",
    "    drop_path_rate=0.0,\n",
    "    drop_path_uniform=True,\n",
    "    init_values=1.0e-05,  # for layerscale: None or 0 => no layerscale\n",
    "    embed_layer=PatchEmbed,\n",
    "    ffn_layer=\"mlp\",\n",
    "    block_chunks=1,\n",
    "    interpolate_antialias=False,\n",
    "    interpolate_offset=0.1,\n",
    "    free_shapes=na_vit,\n",
    "    num_loc_crops=6,\n",
    ")"
   ]
  },
  {
   "cell_type": "code",
   "execution_count": 9,
   "metadata": {},
   "outputs": [],
   "source": [
    "mem_list, max_mem_list, shapes_list_gc, shapes_list_lc = [], [], [], []\n",
    "model.cuda()\n",
    "with torch.cuda.amp.autocast():\n",
    "    with torch.no_grad():\n",
    "        for i, el in enumerate(data_loader):\n",
    "            if not i % 25:\n",
    "                print(i)\n",
    "            if i > 3:\n",
    "                break\n",
    "            if isinstance(el, list):\n",
    "                el = el[0]\n",
    "            if isinstance(el, dict):\n",
    "                collated_dict = el\n",
    "\n",
    "            # list of len batch size containing dicts\n",
    "            # collated_dict = collate_fn(el)\n",
    "\n",
    "            mem_list.append(np.round(torch.cuda.memory_allocated() / 1024 / 1024, 2))\n",
    "            max_mem_list.append(\n",
    "                np.round(torch.cuda.max_memory_allocated() / 1024 / 1024, 2)\n",
    "            )\n",
    "            shapes_list_gc.append(collated_dict[\"collated_global_crops\"].size(-1) / 14)\n",
    "            shapes_list_lc.append(collated_dict[\"collated_local_crops\"].size(-1) / 14)\n",
    "\n",
    "            out = model(\n",
    "                [\n",
    "                    collated_dict[\"collated_global_crops\"].cuda(),\n",
    "                    collated_dict[\"collated_local_crops\"].cuda(),\n",
    "                ],\n",
    "                masks=[collated_dict[\"collated_masks\"].cuda(), None],\n",
    "                is_training=True,\n",
    "                # attn_masks=[collated_dict[\"attn_mask_gc\"].cuda(),collated_dict[\"attn_mask_lc\"].cuda()]\n",
    "            )\n",
    "            #'x_norm_clstoken', 'x_norm_regtokens', 'x_norm_patchtokens', 'x_prenorm', 'masks'\n",
    "            print(\n",
    "                \"out gc\",\n",
    "                out[0][\"x_norm_clstoken\"].shape,\n",
    "                out[0][\"x_norm_patchtokens\"].shape,\n",
    "            )\n",
    "            print(\n",
    "                \"out lc\",\n",
    "                out[1][\"x_norm_clstoken\"].shape,\n",
    "                out[1][\"x_norm_patchtokens\"].shape,\n",
    "            )\n",
    "\n",
    "            out = model(\n",
    "                collated_dict[\"collated_global_crops\"].cuda(),\n",
    "                masks=collated_dict[\"collated_masks\"].cuda(),\n",
    "                is_training=True,\n",
    "                # attn_masks=[collated_dict[\"attn_mask_gc\"].cuda(),collated_dict[\"attn_mask_lc\"].cuda()]\n",
    "            )\n",
    "\n",
    "            print(\"out gc\", out[\"x_norm_clstoken\"].shape)"
   ]
  },
  {
   "cell_type": "code",
   "execution_count": 10,
   "metadata": {},
   "outputs": [
    {
     "data": {
      "image/png": "[encoded data removed]",
      "text/plain": [
       "<Figure size 1200x600 with 5 Axes>"
      ]
     },
     "metadata": {},
     "output_type": "display_data"
    }
   ],
   "source": [
    "f, a = plt.subplots(5, 1)\n",
    "f.set_size_inches(12,6)\n",
    "a[0].set_title(\"memory\")\n",
    "a[0].plot(mem_list)\n",
    "a[1].set_title(\"max memory\")\n",
    "a[1].plot(max_mem_list)\n",
    "a[2].set_title(\"cum dim lc\")\n",
    "a[2].plot(shapes_list_lc)\n",
    "a[3].set_title(\"cum dim gc\")\n",
    "a[3].plot(shapes_list_gc)\n",
    "a[4].set_title(\"cum dim gc+lc\")\n",
    "a[4].plot([lc+gc for lc,gc in zip(shapes_list_lc,shapes_list_gc)])\n",
    "plt.tight_layout()\n",
    "plt.show()"
   ]
  },
  {
   "cell_type": "code",
   "execution_count": 11,
   "metadata": {},
   "outputs": [
    {
     "ename": "AttributeError",
     "evalue": "module 'torch' has no attribute 'ltensor'",
     "output_type": "error",
     "traceback": [
      "\u001b[0;31m---------------------------------------------------------------------------\u001b[0m",
      "\u001b[0;31mAttributeError\u001b[0m                            Traceback (most recent call last)",
      "Cell \u001b[0;32mIn[11], line 9\u001b[0m\n\u001b[1;32m      6\u001b[0m cls_tokens \u001b[38;5;241m=\u001b[39m []\n\u001b[1;32m      7\u001b[0m \u001b[38;5;28;01mfor\u001b[39;00m nb_patch \u001b[38;5;129;01min\u001b[39;00m nb_patch_list:\n\u001b[0;32m----> 9\u001b[0m     cls_tokens\u001b[38;5;241m.\u001b[39mappend(\u001b[43mtorch\u001b[49m\u001b[38;5;241;43m.\u001b[39;49m\u001b[43mltensor\u001b[49m(\u001b[38;5;241m1\u001b[39m, nb_patch, \u001b[38;5;241m384\u001b[39m))\n",
      "File \u001b[0;32m~/micromamba/envs/dinov2_2/lib/python3.10/site-packages/torch/__init__.py:1938\u001b[0m, in \u001b[0;36m__getattr__\u001b[0;34m(name)\u001b[0m\n\u001b[1;32m   1935\u001b[0m     \u001b[38;5;28;01mimport\u001b[39;00m \u001b[38;5;21;01mimportlib\u001b[39;00m\n\u001b[1;32m   1936\u001b[0m     \u001b[38;5;28;01mreturn\u001b[39;00m importlib\u001b[38;5;241m.\u001b[39mimport_module(\u001b[38;5;124mf\u001b[39m\u001b[38;5;124m\"\u001b[39m\u001b[38;5;124m.\u001b[39m\u001b[38;5;132;01m{\u001b[39;00mname\u001b[38;5;132;01m}\u001b[39;00m\u001b[38;5;124m\"\u001b[39m, \u001b[38;5;18m__name__\u001b[39m)\n\u001b[0;32m-> 1938\u001b[0m \u001b[38;5;28;01mraise\u001b[39;00m \u001b[38;5;167;01mAttributeError\u001b[39;00m(\u001b[38;5;124mf\u001b[39m\u001b[38;5;124m\"\u001b[39m\u001b[38;5;124mmodule \u001b[39m\u001b[38;5;124m'\u001b[39m\u001b[38;5;132;01m{\u001b[39;00m\u001b[38;5;18m__name__\u001b[39m\u001b[38;5;132;01m}\u001b[39;00m\u001b[38;5;124m'\u001b[39m\u001b[38;5;124m has no attribute \u001b[39m\u001b[38;5;124m'\u001b[39m\u001b[38;5;132;01m{\u001b[39;00mname\u001b[38;5;132;01m}\u001b[39;00m\u001b[38;5;124m'\u001b[39m\u001b[38;5;124m\"\u001b[39m)\n",
      "\u001b[0;31mAttributeError\u001b[0m: module 'torch' has no attribute 'ltensor'"
     ]
    }
   ],
   "source": [
    "import torch\n",
    "\n",
    "a = torch.ones(4, 28, 384)\n",
    "\n",
    "nb_patch_list = [1, 2, 4, 1]\n",
    "cls_tokens = []\n",
    "for nb_patch in nb_patch_list:\n",
    "\n",
    "    cls_tokens.append(torch.ltensor(1, nb_patch, 384))\n",
    "    "
   ]
  },
  {
   "cell_type": "code",
   "execution_count": null,
   "metadata": {},
   "outputs": [
    {
     "data": {
      "text/plain": [
       "torch.Size([8, 6, 129, 128])"
      ]
     },
     "execution_count": 9,
     "metadata": {},
     "output_type": "execute_result"
    }
   ],
   "source": [
    "import torch\n",
    "\n",
    "aa = torch.ones((8, 6, 129, 128))\n",
    "torch.nn.functional.softmax(aa, dim=-1).shape"
   ]
  },
  {
   "cell_type": "code",
   "execution_count": null,
   "metadata": {},
   "outputs": [],
   "source": [
    "class Attention(dim=384,\n",
    "        num_heads= 8)"
   ]
  },
  {
   "cell_type": "code",
   "execution_count": null,
   "metadata": {},
   "outputs": [
    {
     "data": {
      "text/plain": [
       "904.0"
      ]
     },
     "execution_count": 7,
     "metadata": {},
     "output_type": "execute_result"
    }
   ],
   "source": [
    "(224 * 224 * 2 + 98 * 98 * 8)/(14*14)"
   ]
  },
  {
   "cell_type": "code",
   "execution_count": null,
   "metadata": {},
   "outputs": [
    {
     "data": {
      "text/plain": [
       "torch.Size([8, 98, 98])"
      ]
     },
     "execution_count": 8,
     "metadata": {},
     "output_type": "execute_result"
    }
   ],
   "source": [
    "import torch\n",
    "torch.tile(torch.Tensor(1, 98, 98), (8,1,1)).shape"
   ]
  },
  {
   "cell_type": "code",
   "execution_count": null,
   "metadata": {},
   "outputs": [
    {
     "data": {
      "text/plain": [
       "392.0"
      ]
     },
     "execution_count": 9,
     "metadata": {},
     "output_type": "execute_result"
    }
   ],
   "source": [
    "(98 * 98 * 8) / (14 * 14)"
   ]
  },
  {
   "cell_type": "code",
   "execution_count": null,
   "metadata": {},
   "outputs": [
    {
     "data": {
      "text/plain": [
       "5488"
      ]
     },
     "execution_count": 10,
     "metadata": {},
     "output_type": "execute_result"
    }
   ],
   "source": [
    "int((98 * 98 * 8) / 14)"
   ]
  },
  {
   "cell_type": "code",
   "execution_count": null,
   "metadata": {},
   "outputs": [
    {
     "ename": "KeyError",
     "evalue": "0",
     "output_type": "error",
     "traceback": [
      "\u001b[0;31m---------------------------------------------------------------------------\u001b[0m",
      "\u001b[0;31mKeyError\u001b[0m                                  Traceback (most recent call last)",
      "Cell \u001b[0;32mIn[11], line 2\u001b[0m\n\u001b[1;32m      1\u001b[0m \u001b[38;5;28;01mfor\u001b[39;00m i \u001b[38;5;129;01min\u001b[39;00m \u001b[38;5;28mrange\u001b[39m(\u001b[38;5;28mlen\u001b[39m(out)):\n\u001b[0;32m----> 2\u001b[0m     \u001b[38;5;28;01mfor\u001b[39;00m k \u001b[38;5;129;01min\u001b[39;00m \u001b[43mout\u001b[49m\u001b[43m[\u001b[49m\u001b[43mi\u001b[49m\u001b[43m]\u001b[49m\u001b[38;5;241m.\u001b[39mkeys():\n\u001b[1;32m      3\u001b[0m         \u001b[38;5;28;01mif\u001b[39;00m out[i][k] \u001b[38;5;129;01mis\u001b[39;00m \u001b[38;5;129;01mnot\u001b[39;00m \u001b[38;5;28;01mNone\u001b[39;00m:\n\u001b[1;32m      4\u001b[0m             \u001b[38;5;28mprint\u001b[39m(k, out[i][k]\u001b[38;5;241m.\u001b[39mshape)\n",
      "\u001b[0;31mKeyError\u001b[0m: 0"
     ]
    }
   ],
   "source": [
    "for i in range(len(out)):\n",
    "    for k in out[i].keys():\n",
    "        if out[i][k] is not None:\n",
    "            print(k, out[i][k].shape)"
   ]
  },
  {
   "cell_type": "code",
   "execution_count": null,
   "metadata": {},
   "outputs": [
    {
     "data": {
      "text/plain": [
       "torch.Size([1, 1, 1])"
      ]
     },
     "execution_count": 4,
     "metadata": {},
     "output_type": "execute_result"
    }
   ],
   "source": [
    "import torch \n",
    "torch.ones(1)[None,None,:].shape"
   ]
  },
  {
   "cell_type": "code",
   "execution_count": null,
   "metadata": {},
   "outputs": [
    {
     "data": {
      "text/plain": [
       "torch.Size([8, 19])"
      ]
     },
     "execution_count": 12,
     "metadata": {},
     "output_type": "execute_result"
    }
   ],
   "source": [
    "torch.tile(torch.arange(19), (8,1)).shape"
   ]
  },
  {
   "cell_type": "code",
   "execution_count": null,
   "metadata": {},
   "outputs": [
    {
     "data": {
      "text/plain": [
       "tensor([[0., 0.],\n",
       "        [0., 0.],\n",
       "        [0., 0.],\n",
       "        [0., 0.],\n",
       "        [0., 0.],\n",
       "        [0., 0.],\n",
       "        [0., 0.],\n",
       "        [0., 0.]])"
      ]
     },
     "execution_count": 25,
     "metadata": {},
     "output_type": "execute_result"
    }
   ],
   "source": [
    "filtered_bboxes = torch.ones((8, 4))\n",
    "torch.cat([\n",
    "    filtered_bboxes[:, 2:3] - filtered_bboxes[:, :1],\n",
    "    filtered_bboxes[:, 3:] - filtered_bboxes[:, 1:2],\n",
    "],dim=1)\n",
    "\n"
   ]
  },
  {
   "cell_type": "code",
   "execution_count": null,
   "metadata": {},
   "outputs": [
    {
     "data": {
      "text/plain": [
       "torch.Size([8, 1])"
      ]
     },
     "execution_count": 23,
     "metadata": {},
     "output_type": "execute_result"
    }
   ],
   "source": [
    "filtered_bboxes[:, 1:2].shape"
   ]
  },
  {
   "cell_type": "code",
   "execution_count": null,
   "metadata": {},
   "outputs": [
    {
     "data": {
      "text/plain": [
       "112896"
      ]
     },
     "execution_count": 27,
     "metadata": {},
     "output_type": "execute_result"
    }
   ],
   "source": [
    "#x\n",
    "294* 384"
   ]
  },
  {
   "cell_type": "code",
   "execution_count": null,
   "metadata": {},
   "outputs": [
    {
     "data": {
      "text/plain": [
       "98688"
      ]
     },
     "execution_count": 28,
     "metadata": {},
     "output_type": "execute_result"
    }
   ],
   "source": [
    "257* 384"
   ]
  },
  {
   "cell_type": "code",
   "execution_count": null,
   "metadata": {},
   "outputs": [
    {
     "data": {
      "text/plain": [
       "3613056"
      ]
     },
     "execution_count": 29,
     "metadata": {},
     "output_type": "execute_result"
    }
   ],
   "source": [
    "97* 97* 384"
   ]
  },
  {
   "cell_type": "code",
   "execution_count": null,
   "metadata": {},
   "outputs": [
    {
     "data": {
      "text/plain": [
       "251.0"
      ]
     },
     "execution_count": 31,
     "metadata": {},
     "output_type": "execute_result"
    }
   ],
   "source": [
    "96384/384\n"
   ]
  },
  {
   "cell_type": "code",
   "execution_count": null,
   "metadata": {},
   "outputs": [
    {
     "data": {
      "text/plain": [
       "98304"
      ]
     },
     "execution_count": 30,
     "metadata": {},
     "output_type": "execute_result"
    }
   ],
   "source": [
    "256 * 384"
   ]
  },
  {
   "cell_type": "code",
   "execution_count": null,
   "metadata": {},
   "outputs": [
    {
     "name": "stdout",
     "output_type": "stream",
     "text": [
      "torch.Size([1, 384, 6, 6])\n"
     ]
    }
   ],
   "source": [
    "from torch import nn\n",
    "\n",
    "crop_pos_embed = nn.functional.interpolate(\n",
    "    torch.ones((1, 16,16,384)).permute(0, 3, 1, 2),\n",
    "    mode=\"bicubic\",\n",
    "    size=(6, 6),\n",
    ")\n",
    "print(crop_pos_embed.shape)"
   ]
  },
  {
   "cell_type": "code",
   "execution_count": null,
   "metadata": {},
   "outputs": [
    {
     "name": "stdout",
     "output_type": "stream",
     "text": [
      "torch.Size([1, 36, 384])\n",
      "crop_pos_embed torch.Size([3, 384])\n"
     ]
    }
   ],
   "source": [
    "crop_pos_embed = torch.ones([1, 384, 6, 6])\n",
    "crop_pos_embed = crop_pos_embed.permute(0, 2, 3, 1).view(1, -1, 384)\n",
    "print(crop_pos_embed.shape)\n",
    "# keep only pos_embeds of selected patches\n",
    "crop_pos_embed = torch.index_select(\n",
    "    crop_pos_embed.squeeze(),\n",
    "    dim=0,\n",
    "    index=torch.tensor([1, 3, 10]).long(),\n",
    ")\n",
    "print(f\"crop_pos_embed {crop_pos_embed.shape}\")\n",
    "# torch.cat([class_pos_embed] + crop_pos_embed))"
   ]
  },
  {
   "cell_type": "code",
   "execution_count": null,
   "metadata": {},
   "outputs": [
    {
     "data": {
      "text/plain": [
       "288.0"
      ]
     },
     "execution_count": 44,
     "metadata": {},
     "output_type": "execute_result"
    }
   ],
   "source": [
    "41.0+53.0+58.0+72.0+64.0"
   ]
  },
  {
   "cell_type": "code",
   "execution_count": null,
   "metadata": {},
   "outputs": [],
   "source": []
  }
 ],
 "metadata": {
  "kernelspec": {
   "display_name": "Python 3",
   "language": "python",
   "name": "python3"
  },
  "language_info": {
   "codemirror_mode": {
    "name": "ipython",
    "version": 3
   },
   "file_extension": ".py",
   "mimetype": "text/x-python",
   "name": "python",
   "nbconvert_exporter": "python",
   "pygments_lexer": "ipython3",
   "version": "3.10.14"
  }
 },
 "nbformat": 4,
 "nbformat_minor": 2
}

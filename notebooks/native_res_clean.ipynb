{
 "cells": [
  {
   "cell_type": "code",
   "execution_count": 1,
   "metadata": {},
   "outputs": [
    {
     "name": "stderr",
     "output_type": "stream",
     "text": [
      "/home/jluesch/micromamba/envs/dinov2/lib/python3.9/site-packages/torchvision/datapoints/__init__.py:12: UserWarning: The torchvision.datapoints and torchvision.transforms.v2 namespaces are still Beta. While we do not expect major breaking changes, some APIs may still change according to user feedback. Please submit any feedback you may have in this issue: https://github.com/pytorch/vision/issues/6753, and you can also check out https://github.com/pytorch/vision/issues/7319 to learn more about the APIs that we suspect might involve future changes. You can silence this warning by calling torchvision.disable_beta_transforms_warning().\n",
      "  warnings.warn(_BETA_TRANSFORMS_WARNING)\n",
      "/home/jluesch/micromamba/envs/dinov2/lib/python3.9/site-packages/torchvision/transforms/v2/__init__.py:54: UserWarning: The torchvision.datapoints and torchvision.transforms.v2 namespaces are still Beta. While we do not expect major breaking changes, some APIs may still change according to user feedback. Please submit any feedback you may have in this issue: https://github.com/pytorch/vision/issues/6753, and you can also check out https://github.com/pytorch/vision/issues/7319 to learn more about the APIs that we suspect might involve future changes. You can silence this warning by calling torchvision.disable_beta_transforms_warning().\n",
      "  warnings.warn(_BETA_TRANSFORMS_WARNING)\n",
      "/home/jluesch/Documents/GitHub/plankton-dinov2/notebooks/../dinov2/layers/attention.py:29: UserWarning: xFormers is available (Attention)\n",
      "  warnings.warn(\"xFormers is available (Attention)\")\n",
      "/home/jluesch/Documents/GitHub/plankton-dinov2/notebooks/../dinov2/layers/block.py:34: UserWarning: xFormers is available (Block)\n",
      "  warnings.warn(\"xFormers is available (Block)\")\n",
      "/home/jluesch/Documents/GitHub/plankton-dinov2/notebooks/../dinov2/layers/swiglu_ffn.py:43: UserWarning: xFormers is available (SwiGLU)\n",
      "  warnings.warn(\"xFormers is available (SwiGLU)\")\n"
     ]
    }
   ],
   "source": [
    "import sys\n",
    "\n",
    "sys.path.insert(0, \"..\")\n",
    "\n",
    "from dinov2.data.loaders import make_dataset\n",
    "import matplotlib.pyplot as plt\n",
    "from dinov2.data import DataAugmentationDINO\n",
    "\n",
    "import numpy as np\n",
    "import torch\n",
    "\n",
    "from dinov2.data.masking import MaskingGenerator\n",
    "from dinov2.data.collate import collate_data_and_cast\n",
    "from dinov2.data import make_data_loader\n",
    "\n",
    "from functools import partial\n",
    "\n",
    "from dinov2.models.vision_transformer import DinoVisionTransformer\n",
    "\n",
    "from dinov2.layers import (\n",
    "    MemEffAttention,\n",
    "    Mlp,\n",
    "    PatchEmbed,\n",
    "    SwiGLUFFNFused,\n",
    ")\n",
    "from dinov2.layers import (\n",
    "    NestedTensorBlock as Block,\n",
    ")\n",
    "\n",
    "\n",
    "root = \"/home/jluesch/Documents/data/plankton/nat_lmdb/\"\n",
    "ds_path = f\"LMDBDataset:split=TRAIN:root={root}:extra=*\""
   ]
  },
  {
   "cell_type": "code",
   "execution_count": 2,
   "metadata": {},
   "outputs": [
    {
     "name": "stdout",
     "output_type": "stream",
     "text": [
      "Dataset kwargs {'split': <_Split.TRAIN: 'train'>, 'root': '/home/jluesch/Documents/data/plankton/nat_lmdb/', 'extra': '*'}\n",
      "extra_path /home/jluesch/Documents/data/plankton/nat_lmdb/*-TRAIN_*\n",
      "Datasets labels file list:  ['/home/jluesch/Documents/data/plankton/nat_lmdb/2007-TRAIN_labels', '/home/jluesch/Documents/data/plankton/nat_lmdb/2008-TRAIN_labels', '/home/jluesch/Documents/data/plankton/nat_lmdb/2009-TRAIN_labels', '/home/jluesch/Documents/data/plankton/nat_lmdb/2010-TRAIN_labels', '/home/jluesch/Documents/data/plankton/nat_lmdb/2011-TRAIN_labels', '/home/jluesch/Documents/data/plankton/nat_lmdb/2012-TRAIN_labels', '/home/jluesch/Documents/data/plankton/nat_lmdb/2013-TRAIN_labels', '/home/jluesch/Documents/data/plankton/nat_lmdb/2014-TRAIN_labels']\n",
      "Datasets imgs file list:  ['/home/jluesch/Documents/data/plankton/nat_lmdb/2007-TRAIN_imgs', '/home/jluesch/Documents/data/plankton/nat_lmdb/2008-TRAIN_imgs', '/home/jluesch/Documents/data/plankton/nat_lmdb/2009-TRAIN_imgs', '/home/jluesch/Documents/data/plankton/nat_lmdb/2010-TRAIN_imgs', '/home/jluesch/Documents/data/plankton/nat_lmdb/2011-TRAIN_imgs', '/home/jluesch/Documents/data/plankton/nat_lmdb/2012-TRAIN_imgs', '/home/jluesch/Documents/data/plankton/nat_lmdb/2013-TRAIN_imgs', '/home/jluesch/Documents/data/plankton/nat_lmdb/2014-TRAIN_imgs']\n",
      "#unique_class_ids: _Split.TRAIN, 102\n"
     ]
    }
   ],
   "source": [
    "global_crops_size = 224\n",
    "local_crops_size = 98\n",
    "patch_size = 14\n",
    "\n",
    "do_seg_crops = \"slic\"\n",
    "na_vit = True\n",
    "data_transform_cpu = DataAugmentationDINO(\n",
    "    global_crops_scale=[0.32, 0.8],\n",
    "    local_crops_scale=[0.05, 0.32],\n",
    "    local_crops_number=6,\n",
    "    global_crops_size=global_crops_size,\n",
    "    local_crops_size=local_crops_size,\n",
    "    use_kornia=True,\n",
    "    use_native_res=na_vit,\n",
    "    do_seg_crops=do_seg_crops,\n",
    "    patch_size=patch_size,\n",
    ")\n",
    "\n",
    "dataset = make_dataset(\n",
    "    dataset_str=ds_path,\n",
    "    transform=data_transform_cpu,\n",
    "    target_transform=lambda x: (),\n",
    "    with_targets=False,\n",
    "    cache_dataset=False,\n",
    ")"
   ]
  },
  {
   "cell_type": "code",
   "execution_count": 3,
   "metadata": {},
   "outputs": [],
   "source": [
    "nb_patches_gc = global_crops_size // patch_size\n",
    "\n",
    "mask_generator = MaskingGenerator(\n",
    "    input_size=(nb_patches_gc, nb_patches_gc),\n",
    "    max_num_patches=0.5 * nb_patches_gc * nb_patches_gc,\n",
    ")\n",
    "\n",
    "def list_collate(batch):\n",
    "    data = [item[0] for item in batch]\n",
    "    target = [item[1] for item in batch]\n",
    "    target = torch.LongTensor(target)\n",
    "    return [data, target]\n",
    "\n",
    "n_tokens = (global_crops_size // patch_size) ** 2\n",
    "collate_fn = partial(\n",
    "    collate_data_and_cast,\n",
    "    mask_ratio_tuple=(0.1, 0.5),\n",
    "    mask_probability=0.5,\n",
    "    n_tokens=n_tokens,\n",
    "    mask_generator=mask_generator,\n",
    "    dtype=torch.half,\n",
    "    free_shapes=do_seg_crops,\n",
    ")\n",
    "\n",
    "data_loader = make_data_loader(\n",
    "    dataset=dataset,\n",
    "    batch_size=16,\n",
    "    num_workers=8,\n",
    "    shuffle=True,\n",
    "    seed=0,\n",
    "    sampler_type=None,\n",
    "    sampler_advance=0,\n",
    "    drop_last=True,\n",
    "    collate_fn=collate_fn,\n",
    ")"
   ]
  },
  {
   "cell_type": "code",
   "execution_count": 4,
   "metadata": {},
   "outputs": [],
   "source": [
    "model = DinoVisionTransformer(\n",
    "    patch_size=patch_size,\n",
    "    embed_dim=384,\n",
    "    depth=12,\n",
    "    num_heads=6,\n",
    "    mlp_ratio=4,\n",
    "    block_fn=partial(Block, attn_class=MemEffAttention),\n",
    "    num_register_tokens=0,\n",
    "    img_size=global_crops_size,\n",
    "    in_chans=3,\n",
    "    drop_path_rate=0.0,\n",
    "    drop_path_uniform=True,\n",
    "    init_values=1.0e-05,  # for layerscale: None or 0 => no layerscale\n",
    "    embed_layer=PatchEmbed,\n",
    "    ffn_layer=\"mlp\",\n",
    "    block_chunks=1,\n",
    "    interpolate_antialias=False,\n",
    "    interpolate_offset=0.1,\n",
    "    free_shapes=na_vit,\n",
    "    num_loc_crops=6,\n",
    ")"
   ]
  },
  {
   "cell_type": "code",
   "execution_count": 5,
   "metadata": {},
   "outputs": [
    {
     "name": "stdout",
     "output_type": "stream",
     "text": [
      "samples\n",
      "samples[0][0].keys() dict_keys(['global_crops', 'local_crops', 'local_crop_len', 'local_patch_pos', 'local_crop_dims', 'offsets'])\n",
      "len 16 len[0] 2\n",
      "slic\n",
      "samples\n",
      "samples[0][0].keys() dict_keys(['global_crops', 'local_crops', 'local_crop_len', 'local_patch_pos', 'local_crop_dims', 'offsets'])\n",
      "len samples16\n",
      " samples[0][0].keys()len[0]  dict_keys(['global_crops', 'local_crops', 'local_crop_len', 'local_patch_pos', 'local_crop_dims', 'offsets'])2\n",
      "\n",
      "len slic16\n",
      " len[0] 2\n",
      "slic\n",
      "samples\n",
      "samples[0][0].keys() dict_keys(['global_crops', 'local_crops', 'local_crop_len', 'local_patch_pos', 'local_crop_dims', 'offsets'])\n",
      "len 16 len[0] 2\n",
      "slic\n",
      "samples\n",
      "samples[0][0].keys() dict_keys(['global_crops', 'local_crops', 'local_crop_len', 'local_patch_pos', 'local_crop_dims', 'offsets'])\n",
      "len 16 len[0] 2\n",
      "slic\n",
      "samples\n",
      "samples[0][0].keys() dict_keys(['global_crops', 'local_crops', 'local_crop_len', 'local_patch_pos', 'local_crop_dims', 'offsets'])\n",
      "len 16 len[0] 2\n",
      "slic\n",
      "samples\n",
      "samples[0][0].keys() dict_keys(['global_crops', 'local_crops', 'local_crop_len', 'local_patch_pos', 'local_crop_dims', 'offsets'])\n",
      "len 16 len[0] 2\n",
      "slic\n",
      "samples\n",
      "samples[0][0].keys() dict_keys(['global_crops', 'local_crops', 'local_crop_len', 'local_patch_pos', 'local_crop_dims', 'offsets'])\n",
      "len 16 len[0] 2\n",
      "slic\n",
      "0\n",
      "samples\n",
      "samples[0][0].keys() dict_keys(['global_crops', 'local_crops', 'local_crop_len', 'local_patch_pos', 'local_crop_dims', 'offsets'])\n",
      "len 16 len[0] 2\n",
      "slic\n",
      "samplessamples\n",
      "samples[0][0].keys()\n",
      " samples[0][0].keys()dict_keys(['global_crops', 'local_crops', 'local_crop_len', 'local_patch_pos', 'local_crop_dims', 'offsets']) \n",
      "dict_keys(['global_crops', 'local_crops', 'local_crop_len', 'local_patch_pos', 'local_crop_dims', 'offsets'])len\n",
      " 16len len[0]  216\n",
      " sliclen[0]\n",
      " 2\n",
      "slic\n",
      "samples\n",
      "samples[0][0].keys()samples \n",
      "dict_keys(['global_crops', 'local_crops', 'local_crop_len', 'local_patch_pos', 'local_crop_dims', 'offsets'])samples[0][0].keys()\n",
      " lendict_keys(['global_crops', 'local_crops', 'local_crop_len', 'local_patch_pos', 'local_crop_dims', 'offsets']) 16\n",
      " len len[0]16  2len[0]samples\n",
      " \n",
      "2slicsamples[0][0].keys()\n",
      "\n",
      " slic\n",
      "dict_keys(['global_crops', 'local_crops', 'local_crop_len', 'local_patch_pos', 'local_crop_dims', 'offsets'])\n",
      "len 16 len[0] 2\n",
      "slic\n",
      "samples\n",
      "samples[0][0].keys() dict_keys(['global_crops', 'local_crops', 'local_crop_len', 'local_patch_pos', 'local_crop_dims', 'offsets'])\n",
      "len 16 len[0] 2\n",
      "slic\n",
      "samples\n",
      "samples[0][0].keys() dict_keys(['global_crops', 'local_crops', 'local_crop_len', 'local_patch_pos', 'local_crop_dims', 'offsets'])\n",
      "len 16 len[0] 2\n",
      "slic\n",
      "x torch.Size([32, 262, 384]) ref tensor([[[ 0.0094,  0.0183, -0.0232,  ..., -0.0338,  0.0020,  0.0137],\n",
      "         [ 0.0146, -0.0108, -0.0142,  ..., -0.0092, -0.0164,  0.0080],\n",
      "         [ 0.0181,  0.0046, -0.0081,  ...,  0.0197, -0.0087, -0.0260],\n",
      "         ...,\n",
      "         [-0.0051,  0.0276,  0.0149,  ...,  0.0149,  0.0355,  0.0301],\n",
      "         [ 0.0079,  0.0213, -0.0296,  ..., -0.0073, -0.0379,  0.0003],\n",
      "         [-0.0371,  0.0099,  0.0099,  ...,  0.0065,  0.0185, -0.0098]]],\n",
      "       grad_fn=<CloneBackward0>)\n",
      "samples\n",
      "samples[0][0].keys() dict_keys(['global_crops', 'local_crops', 'local_crop_len', 'local_patch_pos', 'local_crop_dims', 'offsets'])\n",
      "len 16 len[0] 2\n",
      "slic\n"
     ]
    },
    {
     "ename": "TypeError",
     "evalue": "'NoneType' object is not iterable",
     "output_type": "error",
     "traceback": [
      "\u001b[0;31m---------------------------------------------------------------------------\u001b[0m",
      "\u001b[0;31mTypeError\u001b[0m                                 Traceback (most recent call last)",
      "Cell \u001b[0;32mIn[5], line 25\u001b[0m\n\u001b[1;32m     22\u001b[0m shapes_list_gc\u001b[38;5;241m.\u001b[39mappend(collated_dict[\u001b[38;5;124m\"\u001b[39m\u001b[38;5;124mcollated_global_crops\u001b[39m\u001b[38;5;124m\"\u001b[39m]\u001b[38;5;241m.\u001b[39msize(\u001b[38;5;241m-\u001b[39m\u001b[38;5;241m1\u001b[39m) \u001b[38;5;241m/\u001b[39m \u001b[38;5;241m14\u001b[39m)\n\u001b[1;32m     23\u001b[0m shapes_list_lc\u001b[38;5;241m.\u001b[39mappend(collated_dict[\u001b[38;5;124m\"\u001b[39m\u001b[38;5;124mcollated_local_crops\u001b[39m\u001b[38;5;124m\"\u001b[39m]\u001b[38;5;241m.\u001b[39msize(\u001b[38;5;241m-\u001b[39m\u001b[38;5;241m1\u001b[39m) \u001b[38;5;241m/\u001b[39m \u001b[38;5;241m14\u001b[39m)\n\u001b[0;32m---> 25\u001b[0m out \u001b[38;5;241m=\u001b[39m \u001b[43mmodel\u001b[49m\u001b[43m(\u001b[49m\n\u001b[1;32m     26\u001b[0m \u001b[43m    \u001b[49m\u001b[43m[\u001b[49m\n\u001b[1;32m     27\u001b[0m \u001b[43m        \u001b[49m\u001b[43mcollated_dict\u001b[49m\u001b[43m[\u001b[49m\u001b[38;5;124;43m\"\u001b[39;49m\u001b[38;5;124;43mcollated_global_crops\u001b[39;49m\u001b[38;5;124;43m\"\u001b[39;49m\u001b[43m]\u001b[49m\u001b[38;5;241;43m.\u001b[39;49m\u001b[43mcuda\u001b[49m\u001b[43m(\u001b[49m\u001b[43m)\u001b[49m\u001b[43m,\u001b[49m\n\u001b[1;32m     28\u001b[0m \u001b[43m        \u001b[49m\u001b[43mcollated_dict\u001b[49m\u001b[43m[\u001b[49m\u001b[38;5;124;43m\"\u001b[39;49m\u001b[38;5;124;43mcollated_local_crops\u001b[39;49m\u001b[38;5;124;43m\"\u001b[39;49m\u001b[43m]\u001b[49m\u001b[38;5;241;43m.\u001b[39;49m\u001b[43mcuda\u001b[49m\u001b[43m(\u001b[49m\u001b[43m)\u001b[49m\u001b[43m,\u001b[49m\n\u001b[1;32m     29\u001b[0m \u001b[43m    \u001b[49m\u001b[43m]\u001b[49m\u001b[43m,\u001b[49m\n\u001b[1;32m     30\u001b[0m \u001b[43m    \u001b[49m\u001b[43mmasks\u001b[49m\u001b[38;5;241;43m=\u001b[39;49m\u001b[43m[\u001b[49m\u001b[43mcollated_dict\u001b[49m\u001b[43m[\u001b[49m\u001b[38;5;124;43m\"\u001b[39;49m\u001b[38;5;124;43mcollated_masks\u001b[39;49m\u001b[38;5;124;43m\"\u001b[39;49m\u001b[43m]\u001b[49m\u001b[38;5;241;43m.\u001b[39;49m\u001b[43mcuda\u001b[49m\u001b[43m(\u001b[49m\u001b[43m)\u001b[49m\u001b[43m,\u001b[49m\u001b[43m \u001b[49m\u001b[38;5;28;43;01mNone\u001b[39;49;00m\u001b[43m]\u001b[49m\u001b[43m,\u001b[49m\n\u001b[1;32m     31\u001b[0m \u001b[43m    \u001b[49m\u001b[43mis_training\u001b[49m\u001b[38;5;241;43m=\u001b[39;49m\u001b[38;5;28;43;01mTrue\u001b[39;49;00m\u001b[43m,\u001b[49m\n\u001b[1;32m     32\u001b[0m \u001b[43m    \u001b[49m\u001b[38;5;66;43;03m# attn_masks=[collated_dict[\"attn_mask_gc\"].cuda(),collated_dict[\"attn_mask_lc\"].cuda()]\u001b[39;49;00m\n\u001b[1;32m     33\u001b[0m \u001b[43m\u001b[49m\u001b[43m)\u001b[49m\n\u001b[1;32m     34\u001b[0m \u001b[38;5;66;03m#'x_norm_clstoken', 'x_norm_regtokens', 'x_norm_patchtokens', 'x_prenorm', 'masks'\u001b[39;00m\n\u001b[1;32m     35\u001b[0m \u001b[38;5;28mprint\u001b[39m(\n\u001b[1;32m     36\u001b[0m     \u001b[38;5;124m\"\u001b[39m\u001b[38;5;124mout gc\u001b[39m\u001b[38;5;124m\"\u001b[39m,\n\u001b[1;32m     37\u001b[0m     out[\u001b[38;5;241m0\u001b[39m][\u001b[38;5;124m\"\u001b[39m\u001b[38;5;124mx_norm_clstoken\u001b[39m\u001b[38;5;124m\"\u001b[39m]\u001b[38;5;241m.\u001b[39mshape,\n\u001b[1;32m     38\u001b[0m     out[\u001b[38;5;241m0\u001b[39m][\u001b[38;5;124m\"\u001b[39m\u001b[38;5;124mx_norm_patchtokens\u001b[39m\u001b[38;5;124m\"\u001b[39m]\u001b[38;5;241m.\u001b[39mshape,\n\u001b[1;32m     39\u001b[0m )\n",
      "File \u001b[0;32m~/micromamba/envs/dinov2/lib/python3.9/site-packages/torch/nn/modules/module.py:1501\u001b[0m, in \u001b[0;36mModule._call_impl\u001b[0;34m(self, *args, **kwargs)\u001b[0m\n\u001b[1;32m   1496\u001b[0m \u001b[38;5;66;03m# If we don't have any hooks, we want to skip the rest of the logic in\u001b[39;00m\n\u001b[1;32m   1497\u001b[0m \u001b[38;5;66;03m# this function, and just call forward.\u001b[39;00m\n\u001b[1;32m   1498\u001b[0m \u001b[38;5;28;01mif\u001b[39;00m \u001b[38;5;129;01mnot\u001b[39;00m (\u001b[38;5;28mself\u001b[39m\u001b[38;5;241m.\u001b[39m_backward_hooks \u001b[38;5;129;01mor\u001b[39;00m \u001b[38;5;28mself\u001b[39m\u001b[38;5;241m.\u001b[39m_backward_pre_hooks \u001b[38;5;129;01mor\u001b[39;00m \u001b[38;5;28mself\u001b[39m\u001b[38;5;241m.\u001b[39m_forward_hooks \u001b[38;5;129;01mor\u001b[39;00m \u001b[38;5;28mself\u001b[39m\u001b[38;5;241m.\u001b[39m_forward_pre_hooks\n\u001b[1;32m   1499\u001b[0m         \u001b[38;5;129;01mor\u001b[39;00m _global_backward_pre_hooks \u001b[38;5;129;01mor\u001b[39;00m _global_backward_hooks\n\u001b[1;32m   1500\u001b[0m         \u001b[38;5;129;01mor\u001b[39;00m _global_forward_hooks \u001b[38;5;129;01mor\u001b[39;00m _global_forward_pre_hooks):\n\u001b[0;32m-> 1501\u001b[0m     \u001b[38;5;28;01mreturn\u001b[39;00m \u001b[43mforward_call\u001b[49m\u001b[43m(\u001b[49m\u001b[38;5;241;43m*\u001b[39;49m\u001b[43margs\u001b[49m\u001b[43m,\u001b[49m\u001b[43m \u001b[49m\u001b[38;5;241;43m*\u001b[39;49m\u001b[38;5;241;43m*\u001b[39;49m\u001b[43mkwargs\u001b[49m\u001b[43m)\u001b[49m\n\u001b[1;32m   1502\u001b[0m \u001b[38;5;66;03m# Do not call functions when jit is used\u001b[39;00m\n\u001b[1;32m   1503\u001b[0m full_backward_hooks, non_full_backward_hooks \u001b[38;5;241m=\u001b[39m [], []\n",
      "File \u001b[0;32m~/Documents/GitHub/plankton-dinov2/notebooks/../dinov2/models/vision_transformer.py:558\u001b[0m, in \u001b[0;36mDinoVisionTransformer.forward\u001b[0;34m(self, is_training, *args, **kwargs)\u001b[0m\n\u001b[1;32m    557\u001b[0m \u001b[38;5;28;01mdef\u001b[39;00m \u001b[38;5;21mforward\u001b[39m(\u001b[38;5;28mself\u001b[39m, \u001b[38;5;241m*\u001b[39margs, is_training\u001b[38;5;241m=\u001b[39m\u001b[38;5;28;01mFalse\u001b[39;00m, \u001b[38;5;241m*\u001b[39m\u001b[38;5;241m*\u001b[39mkwargs):\n\u001b[0;32m--> 558\u001b[0m     ret \u001b[38;5;241m=\u001b[39m \u001b[38;5;28;43mself\u001b[39;49m\u001b[38;5;241;43m.\u001b[39;49m\u001b[43mforward_features\u001b[49m\u001b[43m(\u001b[49m\u001b[38;5;241;43m*\u001b[39;49m\u001b[43margs\u001b[49m\u001b[43m,\u001b[49m\u001b[43m \u001b[49m\u001b[38;5;241;43m*\u001b[39;49m\u001b[38;5;241;43m*\u001b[39;49m\u001b[43mkwargs\u001b[49m\u001b[43m)\u001b[49m\n\u001b[1;32m    559\u001b[0m     \u001b[38;5;28;01mif\u001b[39;00m is_training:\n\u001b[1;32m    560\u001b[0m         \u001b[38;5;28;01mreturn\u001b[39;00m ret\n",
      "File \u001b[0;32m~/Documents/GitHub/plankton-dinov2/notebooks/../dinov2/models/vision_transformer.py:459\u001b[0m, in \u001b[0;36mDinoVisionTransformer.forward_features\u001b[0;34m(self, x, masks, attn_masks, local_crop_len, local_patch_pos, local_crop_dims)\u001b[0m\n\u001b[1;32m    449\u001b[0m \u001b[38;5;28;01mdef\u001b[39;00m \u001b[38;5;21mforward_features\u001b[39m(\n\u001b[1;32m    450\u001b[0m     \u001b[38;5;28mself\u001b[39m,\n\u001b[1;32m    451\u001b[0m     x,\n\u001b[0;32m   (...)\u001b[0m\n\u001b[1;32m    456\u001b[0m     local_crop_dims\u001b[38;5;241m=\u001b[39m\u001b[38;5;28;01mNone\u001b[39;00m,\n\u001b[1;32m    457\u001b[0m ):\n\u001b[1;32m    458\u001b[0m     \u001b[38;5;28;01mif\u001b[39;00m \u001b[38;5;28misinstance\u001b[39m(x, \u001b[38;5;28mlist\u001b[39m):\n\u001b[0;32m--> 459\u001b[0m         \u001b[38;5;28;01mreturn\u001b[39;00m \u001b[38;5;28;43mself\u001b[39;49m\u001b[38;5;241;43m.\u001b[39;49m\u001b[43mforward_features_list\u001b[49m\u001b[43m(\u001b[49m\n\u001b[1;32m    460\u001b[0m \u001b[43m            \u001b[49m\u001b[43mx\u001b[49m\u001b[43m,\u001b[49m\n\u001b[1;32m    461\u001b[0m \u001b[43m            \u001b[49m\u001b[43mmasks\u001b[49m\u001b[43m,\u001b[49m\n\u001b[1;32m    462\u001b[0m \u001b[43m            \u001b[49m\u001b[43mattn_masks\u001b[49m\u001b[43m,\u001b[49m\n\u001b[1;32m    463\u001b[0m \u001b[43m            \u001b[49m\u001b[43mlocal_crop_len\u001b[49m\u001b[38;5;241;43m=\u001b[39;49m\u001b[43mlocal_crop_len\u001b[49m\u001b[43m,\u001b[49m\n\u001b[1;32m    464\u001b[0m \u001b[43m            \u001b[49m\u001b[43mlocal_patch_pos\u001b[49m\u001b[38;5;241;43m=\u001b[39;49m\u001b[43mlocal_patch_pos\u001b[49m\u001b[43m,\u001b[49m\n\u001b[1;32m    465\u001b[0m \u001b[43m            \u001b[49m\u001b[43mlocal_crop_dims\u001b[49m\u001b[38;5;241;43m=\u001b[39;49m\u001b[43mlocal_crop_dims\u001b[49m\u001b[43m,\u001b[49m\n\u001b[1;32m    466\u001b[0m \u001b[43m        \u001b[49m\u001b[43m)\u001b[49m\n\u001b[1;32m    468\u001b[0m     \u001b[38;5;28mprint\u001b[39m(\n\u001b[1;32m    469\u001b[0m         \u001b[38;5;124mf\u001b[39m\u001b[38;5;124m\"\u001b[39m\u001b[38;5;124mforward_features, local_patch_pos \u001b[39m\u001b[38;5;132;01m{\u001b[39;00mlocal_patch_pos\u001b[38;5;241m.\u001b[39mshape\u001b[38;5;132;01m}\u001b[39;00m\u001b[38;5;124m local_crop_dims \u001b[39m\u001b[38;5;132;01m{\u001b[39;00mlocal_crop_dims\u001b[38;5;241m.\u001b[39mshape\u001b[38;5;132;01m}\u001b[39;00m\u001b[38;5;124m\"\u001b[39m\n\u001b[1;32m    470\u001b[0m     )\n\u001b[1;32m    471\u001b[0m     x \u001b[38;5;241m=\u001b[39m \u001b[38;5;28mself\u001b[39m\u001b[38;5;241m.\u001b[39mprepare_tokens_with_masks(\n\u001b[1;32m    472\u001b[0m         x, masks, local_patch_pos\u001b[38;5;241m=\u001b[39mlocal_patch_pos, local_crop_dims\u001b[38;5;241m=\u001b[39mlocal_crop_dims\n\u001b[1;32m    473\u001b[0m     )\n",
      "File \u001b[0;32m~/Documents/GitHub/plankton-dinov2/notebooks/../dinov2/models/vision_transformer.py:402\u001b[0m, in \u001b[0;36mDinoVisionTransformer.forward_features_list\u001b[0;34m(self, x_list, masks_list, attn_mask_list, local_crop_len, local_patch_pos, local_crop_dims)\u001b[0m\n\u001b[1;32m    390\u001b[0m     x \u001b[38;5;241m=\u001b[39m [\n\u001b[1;32m    391\u001b[0m         \u001b[38;5;28mself\u001b[39m\u001b[38;5;241m.\u001b[39mprepare_tokens_with_masks(\n\u001b[1;32m    392\u001b[0m             x,\n\u001b[0;32m   (...)\u001b[0m\n\u001b[1;32m    399\u001b[0m         )\n\u001b[1;32m    400\u001b[0m     ]\n\u001b[1;32m    401\u001b[0m \u001b[38;5;28;01melse\u001b[39;00m:\n\u001b[0;32m--> 402\u001b[0m     x \u001b[38;5;241m=\u001b[39m [\n\u001b[1;32m    403\u001b[0m         \u001b[38;5;28mself\u001b[39m\u001b[38;5;241m.\u001b[39mprepare_tokens_with_masks(x, masks)\n\u001b[1;32m    404\u001b[0m         \u001b[38;5;28;01mfor\u001b[39;00m x, masks \u001b[38;5;129;01min\u001b[39;00m \u001b[38;5;28mzip\u001b[39m(x_list, masks_list)\n\u001b[1;32m    405\u001b[0m     ]\n\u001b[1;32m    406\u001b[0m \u001b[38;5;66;03m# x_list = [global_crops, local_crops]\u001b[39;00m\n\u001b[1;32m    407\u001b[0m \u001b[38;5;66;03m# masks_list = [masks, None]\u001b[39;00m\n\u001b[1;32m    408\u001b[0m \u001b[38;5;66;03m# x[0] = B C H W\u001b[39;00m\n\u001b[1;32m    409\u001b[0m \u001b[38;5;28;01mfor\u001b[39;00m blk \u001b[38;5;129;01min\u001b[39;00m \u001b[38;5;28mself\u001b[39m\u001b[38;5;241m.\u001b[39mblocks:\n",
      "File \u001b[0;32m~/Documents/GitHub/plankton-dinov2/notebooks/../dinov2/models/vision_transformer.py:403\u001b[0m, in \u001b[0;36m<listcomp>\u001b[0;34m(.0)\u001b[0m\n\u001b[1;32m    390\u001b[0m     x \u001b[38;5;241m=\u001b[39m [\n\u001b[1;32m    391\u001b[0m         \u001b[38;5;28mself\u001b[39m\u001b[38;5;241m.\u001b[39mprepare_tokens_with_masks(\n\u001b[1;32m    392\u001b[0m             x,\n\u001b[0;32m   (...)\u001b[0m\n\u001b[1;32m    399\u001b[0m         )\n\u001b[1;32m    400\u001b[0m     ]\n\u001b[1;32m    401\u001b[0m \u001b[38;5;28;01melse\u001b[39;00m:\n\u001b[1;32m    402\u001b[0m     x \u001b[38;5;241m=\u001b[39m [\n\u001b[0;32m--> 403\u001b[0m         \u001b[38;5;28;43mself\u001b[39;49m\u001b[38;5;241;43m.\u001b[39;49m\u001b[43mprepare_tokens_with_masks\u001b[49m\u001b[43m(\u001b[49m\u001b[43mx\u001b[49m\u001b[43m,\u001b[49m\u001b[43m \u001b[49m\u001b[43mmasks\u001b[49m\u001b[43m)\u001b[49m\n\u001b[1;32m    404\u001b[0m         \u001b[38;5;28;01mfor\u001b[39;00m x, masks \u001b[38;5;129;01min\u001b[39;00m \u001b[38;5;28mzip\u001b[39m(x_list, masks_list)\n\u001b[1;32m    405\u001b[0m     ]\n\u001b[1;32m    406\u001b[0m \u001b[38;5;66;03m# x_list = [global_crops, local_crops]\u001b[39;00m\n\u001b[1;32m    407\u001b[0m \u001b[38;5;66;03m# masks_list = [masks, None]\u001b[39;00m\n\u001b[1;32m    408\u001b[0m \u001b[38;5;66;03m# x[0] = B C H W\u001b[39;00m\n\u001b[1;32m    409\u001b[0m \u001b[38;5;28;01mfor\u001b[39;00m blk \u001b[38;5;129;01min\u001b[39;00m \u001b[38;5;28mself\u001b[39m\u001b[38;5;241m.\u001b[39mblocks:\n",
      "File \u001b[0;32m~/Documents/GitHub/plankton-dinov2/notebooks/../dinov2/models/vision_transformer.py:345\u001b[0m, in \u001b[0;36mDinoVisionTransformer.prepare_tokens_with_masks\u001b[0;34m(self, x, masks, local_patch_pos, local_crop_dims)\u001b[0m\n\u001b[1;32m    342\u001b[0m x \u001b[38;5;241m=\u001b[39m torch\u001b[38;5;241m.\u001b[39mcat((cls_token\u001b[38;5;241m.\u001b[39mexpand(x\u001b[38;5;241m.\u001b[39mshape[\u001b[38;5;241m0\u001b[39m], \u001b[38;5;241m-\u001b[39m\u001b[38;5;241m1\u001b[39m, \u001b[38;5;241m-\u001b[39m\u001b[38;5;241m1\u001b[39m), x), dim\u001b[38;5;241m=\u001b[39m\u001b[38;5;241m1\u001b[39m)\n\u001b[1;32m    344\u001b[0m \u001b[38;5;28;01mif\u001b[39;00m \u001b[38;5;28mself\u001b[39m\u001b[38;5;241m.\u001b[39mfree_shapes:\n\u001b[0;32m--> 345\u001b[0m     interpolated_pos_embeds \u001b[38;5;241m=\u001b[39m \u001b[38;5;28;43mself\u001b[39;49m\u001b[38;5;241;43m.\u001b[39;49m\u001b[43minterpolate_pos_encoding_lc_navit\u001b[49m\u001b[43m(\u001b[49m\n\u001b[1;32m    346\u001b[0m \u001b[43m        \u001b[49m\u001b[43mx\u001b[49m\u001b[43m,\u001b[49m\n\u001b[1;32m    347\u001b[0m \u001b[43m        \u001b[49m\u001b[43mcrop_dims\u001b[49m\u001b[38;5;241;43m=\u001b[39;49m\u001b[43mlocal_crop_dims\u001b[49m\u001b[43m,\u001b[49m\n\u001b[1;32m    348\u001b[0m \u001b[43m        \u001b[49m\u001b[43mcrop_nb_list\u001b[49m\u001b[38;5;241;43m=\u001b[39;49m\u001b[43mlocal_patch_pos\u001b[49m\u001b[43m,\u001b[49m\n\u001b[1;32m    349\u001b[0m \u001b[43m    \u001b[49m\u001b[43m)\u001b[49m\n\u001b[1;32m    350\u001b[0m \u001b[38;5;28;01melse\u001b[39;00m:\n\u001b[1;32m    351\u001b[0m     interpolated_pos_embeds \u001b[38;5;241m=\u001b[39m \u001b[38;5;28mself\u001b[39m\u001b[38;5;241m.\u001b[39minterpolate_pos_encoding(x, w, h)\n",
      "File \u001b[0;32m~/Documents/GitHub/plankton-dinov2/notebooks/../dinov2/models/vision_transformer.py:282\u001b[0m, in \u001b[0;36mDinoVisionTransformer.interpolate_pos_encoding_lc_navit\u001b[0;34m(self, x, crop_dims, crop_nb_list)\u001b[0m\n\u001b[1;32m    280\u001b[0m ref_patch_pos_embed \u001b[38;5;241m=\u001b[39m ref_pos_embed[:, \u001b[38;5;28mself\u001b[39m\u001b[38;5;241m.\u001b[39mnum_loc_crops :]\n\u001b[1;32m    281\u001b[0m crop_pos_embed_list \u001b[38;5;241m=\u001b[39m []\n\u001b[0;32m--> 282\u001b[0m \u001b[38;5;28;01mfor\u001b[39;00m crop_dim, crop_nbs \u001b[38;5;129;01min\u001b[39;00m \u001b[38;5;28;43mzip\u001b[39;49m\u001b[43m(\u001b[49m\u001b[43mcrop_dims\u001b[49m\u001b[43m,\u001b[49m\u001b[43m \u001b[49m\u001b[43mcrop_nb_list\u001b[49m\u001b[43m)\u001b[49m:\n\u001b[1;32m    283\u001b[0m     w, h \u001b[38;5;241m=\u001b[39m crop_dim\n\u001b[1;32m    284\u001b[0m     w0 \u001b[38;5;241m=\u001b[39m w \u001b[38;5;241m/\u001b[39m\u001b[38;5;241m/\u001b[39m \u001b[38;5;28mself\u001b[39m\u001b[38;5;241m.\u001b[39mpatch_size\n",
      "\u001b[0;31mTypeError\u001b[0m: 'NoneType' object is not iterable"
     ]
    }
   ],
   "source": [
    "mem_list, max_mem_list, shapes_list_gc, shapes_list_lc = [], [], [], []\n",
    "model.cuda()\n",
    "with torch.cuda.amp.autocast():\n",
    "    with torch.no_grad():\n",
    "        for i, el in enumerate(data_loader):\n",
    "            if not i % 25:\n",
    "                print(i)\n",
    "            if i > 3:\n",
    "                break\n",
    "            if isinstance(el, list):\n",
    "                el = el[0]\n",
    "            if isinstance(el, dict):\n",
    "                collated_dict = el\n",
    "\n",
    "            # list of len batch size containing dicts\n",
    "            # collated_dict = collate_fn(el)\n",
    "\n",
    "            mem_list.append(np.round(torch.cuda.memory_allocated() / 1024 / 1024, 2))\n",
    "            max_mem_list.append(\n",
    "                np.round(torch.cuda.max_memory_allocated() / 1024 / 1024, 2)\n",
    "            )\n",
    "            shapes_list_gc.append(collated_dict[\"collated_global_crops\"].size(-1) / 14)\n",
    "            shapes_list_lc.append(collated_dict[\"collated_local_crops\"].size(-1) / 14)\n",
    "\n",
    "            out = model(\n",
    "                [\n",
    "                    collated_dict[\"collated_global_crops\"].cuda(),\n",
    "                    collated_dict[\"collated_local_crops\"].cuda(),\n",
    "                ],\n",
    "                masks=[collated_dict[\"collated_masks\"].cuda(), None],\n",
    "                is_training=True,\n",
    "                # attn_masks=[collated_dict[\"attn_mask_gc\"].cuda(),collated_dict[\"attn_mask_lc\"].cuda()]\n",
    "            )\n",
    "            #'x_norm_clstoken', 'x_norm_regtokens', 'x_norm_patchtokens', 'x_prenorm', 'masks'\n",
    "            print(\n",
    "                \"out gc\",\n",
    "                out[0][\"x_norm_clstoken\"].shape,\n",
    "                out[0][\"x_norm_patchtokens\"].shape,\n",
    "            )\n",
    "            print(\n",
    "                \"out lc\",\n",
    "                out[1][\"x_norm_clstoken\"].shape,\n",
    "                out[1][\"x_norm_patchtokens\"].shape,\n",
    "            )\n",
    "\n",
    "            out = model(\n",
    "                collated_dict[\"collated_global_crops\"].cuda(),\n",
    "                masks=collated_dict[\"collated_masks\"].cuda(),\n",
    "                is_training=True,\n",
    "                # attn_masks=[collated_dict[\"attn_mask_gc\"].cuda(),collated_dict[\"attn_mask_lc\"].cuda()]\n",
    "            )\n",
    "\n",
    "            print(\"out gc\", out[\"x_norm_clstoken\"].shape)"
   ]
  },
  {
   "cell_type": "code",
   "execution_count": null,
   "metadata": {},
   "outputs": [
    {
     "data": {
      "image/png": "[encoded data removed]",
      "text/plain": [
       "<Figure size 1200x600 with 5 Axes>"
      ]
     },
     "metadata": {},
     "output_type": "display_data"
    }
   ],
   "source": [
    "f, a = plt.subplots(5, 1)\n",
    "f.set_size_inches(12,6)\n",
    "a[0].set_title(\"memory\")\n",
    "a[0].plot(mem_list)\n",
    "a[1].set_title(\"max memory\")\n",
    "a[1].plot(max_mem_list)\n",
    "a[2].set_title(\"cum dim lc\")\n",
    "a[2].plot(shapes_list_lc)\n",
    "a[3].set_title(\"cum dim gc\")\n",
    "a[3].plot(shapes_list_gc)\n",
    "a[4].set_title(\"cum dim gc+lc\")\n",
    "a[4].plot([lc+gc for lc,gc in zip(shapes_list_lc,shapes_list_gc)])\n",
    "plt.tight_layout()\n",
    "plt.show()"
   ]
  },
  {
   "cell_type": "code",
   "execution_count": null,
   "metadata": {},
   "outputs": [
    {
     "ename": "AttributeError",
     "evalue": "module 'torch' has no attribute 'ltensor'",
     "output_type": "error",
     "traceback": [
      "\u001b[0;31m---------------------------------------------------------------------------\u001b[0m",
      "\u001b[0;31mAttributeError\u001b[0m                            Traceback (most recent call last)",
      "Cell \u001b[0;32mIn[7], line 9\u001b[0m\n\u001b[1;32m      6\u001b[0m cls_tokens \u001b[38;5;241m=\u001b[39m []\n\u001b[1;32m      7\u001b[0m \u001b[38;5;28;01mfor\u001b[39;00m nb_patch \u001b[38;5;129;01min\u001b[39;00m nb_patch_list:\n\u001b[0;32m----> 9\u001b[0m     cls_tokens\u001b[38;5;241m.\u001b[39mappend(\u001b[43mtorch\u001b[49m\u001b[38;5;241;43m.\u001b[39;49m\u001b[43mltensor\u001b[49m(\u001b[38;5;241m1\u001b[39m, nb_patch, \u001b[38;5;241m384\u001b[39m))\n",
      "\u001b[0;31mAttributeError\u001b[0m: module 'torch' has no attribute 'ltensor'"
     ]
    }
   ],
   "source": [
    "import torch\n",
    "\n",
    "a = torch.ones(4, 28, 384)\n",
    "\n",
    "nb_patch_list = [1, 2, 4, 1]\n",
    "cls_tokens = []\n",
    "for nb_patch in nb_patch_list:\n",
    "\n",
    "    cls_tokens.append(torch.ltensor(1, nb_patch, 384))\n",
    "    "
   ]
  },
  {
   "cell_type": "code",
   "execution_count": 9,
   "metadata": {},
   "outputs": [
    {
     "data": {
      "text/plain": [
       "torch.Size([8, 6, 129, 128])"
      ]
     },
     "execution_count": 9,
     "metadata": {},
     "output_type": "execute_result"
    }
   ],
   "source": [
    "import torch\n",
    "\n",
    "aa = torch.ones((8, 6, 129, 128))\n",
    "torch.nn.functional.softmax(aa, dim=-1).shape"
   ]
  },
  {
   "cell_type": "code",
   "execution_count": null,
   "metadata": {},
   "outputs": [],
   "source": [
    "class Attention(dim=384,\n",
    "        num_heads= 8)"
   ]
  },
  {
   "cell_type": "code",
   "execution_count": null,
   "metadata": {},
   "outputs": [
    {
     "data": {
      "text/plain": [
       "904.0"
      ]
     },
     "execution_count": 7,
     "metadata": {},
     "output_type": "execute_result"
    }
   ],
   "source": [
    "(224 * 224 * 2 + 98 * 98 * 8)/(14*14)"
   ]
  },
  {
   "cell_type": "code",
   "execution_count": null,
   "metadata": {},
   "outputs": [
    {
     "data": {
      "text/plain": [
       "torch.Size([8, 98, 98])"
      ]
     },
     "execution_count": 8,
     "metadata": {},
     "output_type": "execute_result"
    }
   ],
   "source": [
    "import torch\n",
    "torch.tile(torch.Tensor(1, 98, 98), (8,1,1)).shape"
   ]
  },
  {
   "cell_type": "code",
   "execution_count": null,
   "metadata": {},
   "outputs": [
    {
     "data": {
      "text/plain": [
       "392.0"
      ]
     },
     "execution_count": 9,
     "metadata": {},
     "output_type": "execute_result"
    }
   ],
   "source": [
    "(98 * 98 * 8) / (14 * 14)"
   ]
  },
  {
   "cell_type": "code",
   "execution_count": null,
   "metadata": {},
   "outputs": [
    {
     "data": {
      "text/plain": [
       "5488"
      ]
     },
     "execution_count": 10,
     "metadata": {},
     "output_type": "execute_result"
    }
   ],
   "source": [
    "int((98 * 98 * 8) / 14)"
   ]
  },
  {
   "cell_type": "code",
   "execution_count": null,
   "metadata": {},
   "outputs": [
    {
     "ename": "KeyError",
     "evalue": "0",
     "output_type": "error",
     "traceback": [
      "\u001b[0;31m---------------------------------------------------------------------------\u001b[0m",
      "\u001b[0;31mKeyError\u001b[0m                                  Traceback (most recent call last)",
      "Cell \u001b[0;32mIn[11], line 2\u001b[0m\n\u001b[1;32m      1\u001b[0m \u001b[38;5;28;01mfor\u001b[39;00m i \u001b[38;5;129;01min\u001b[39;00m \u001b[38;5;28mrange\u001b[39m(\u001b[38;5;28mlen\u001b[39m(out)):\n\u001b[0;32m----> 2\u001b[0m     \u001b[38;5;28;01mfor\u001b[39;00m k \u001b[38;5;129;01min\u001b[39;00m \u001b[43mout\u001b[49m\u001b[43m[\u001b[49m\u001b[43mi\u001b[49m\u001b[43m]\u001b[49m\u001b[38;5;241m.\u001b[39mkeys():\n\u001b[1;32m      3\u001b[0m         \u001b[38;5;28;01mif\u001b[39;00m out[i][k] \u001b[38;5;129;01mis\u001b[39;00m \u001b[38;5;129;01mnot\u001b[39;00m \u001b[38;5;28;01mNone\u001b[39;00m:\n\u001b[1;32m      4\u001b[0m             \u001b[38;5;28mprint\u001b[39m(k, out[i][k]\u001b[38;5;241m.\u001b[39mshape)\n",
      "\u001b[0;31mKeyError\u001b[0m: 0"
     ]
    }
   ],
   "source": [
    "for i in range(len(out)):\n",
    "    for k in out[i].keys():\n",
    "        if out[i][k] is not None:\n",
    "            print(k, out[i][k].shape)"
   ]
  },
  {
   "cell_type": "code",
   "execution_count": 4,
   "metadata": {},
   "outputs": [
    {
     "data": {
      "text/plain": [
       "torch.Size([1, 1, 1])"
      ]
     },
     "execution_count": 4,
     "metadata": {},
     "output_type": "execute_result"
    }
   ],
   "source": [
    "import torch \n",
    "torch.ones(1)[None,None,:].shape"
   ]
  },
  {
   "cell_type": "code",
   "execution_count": 12,
   "metadata": {},
   "outputs": [
    {
     "data": {
      "text/plain": [
       "torch.Size([8, 19])"
      ]
     },
     "execution_count": 12,
     "metadata": {},
     "output_type": "execute_result"
    }
   ],
   "source": [
    "torch.tile(torch.arange(19), (8,1)).shape"
   ]
  },
  {
   "cell_type": "code",
   "execution_count": 25,
   "metadata": {},
   "outputs": [
    {
     "data": {
      "text/plain": [
       "tensor([[0., 0.],\n",
       "        [0., 0.],\n",
       "        [0., 0.],\n",
       "        [0., 0.],\n",
       "        [0., 0.],\n",
       "        [0., 0.],\n",
       "        [0., 0.],\n",
       "        [0., 0.]])"
      ]
     },
     "execution_count": 25,
     "metadata": {},
     "output_type": "execute_result"
    }
   ],
   "source": [
    "filtered_bboxes = torch.ones((8, 4))\n",
    "torch.cat([\n",
    "    filtered_bboxes[:, 2:3] - filtered_bboxes[:, :1],\n",
    "    filtered_bboxes[:, 3:] - filtered_bboxes[:, 1:2],\n",
    "],dim=1)\n",
    "\n"
   ]
  },
  {
   "cell_type": "code",
   "execution_count": 23,
   "metadata": {},
   "outputs": [
    {
     "data": {
      "text/plain": [
       "torch.Size([8, 1])"
      ]
     },
     "execution_count": 23,
     "metadata": {},
     "output_type": "execute_result"
    }
   ],
   "source": [
    "filtered_bboxes[:, 1:2].shape"
   ]
  },
  {
   "cell_type": "code",
   "execution_count": 27,
   "metadata": {},
   "outputs": [
    {
     "data": {
      "text/plain": [
       "112896"
      ]
     },
     "execution_count": 27,
     "metadata": {},
     "output_type": "execute_result"
    }
   ],
   "source": [
    "#x\n",
    "294* 384"
   ]
  },
  {
   "cell_type": "code",
   "execution_count": 28,
   "metadata": {},
   "outputs": [
    {
     "data": {
      "text/plain": [
       "98688"
      ]
     },
     "execution_count": 28,
     "metadata": {},
     "output_type": "execute_result"
    }
   ],
   "source": [
    "257* 384"
   ]
  },
  {
   "cell_type": "code",
   "execution_count": 29,
   "metadata": {},
   "outputs": [
    {
     "data": {
      "text/plain": [
       "3613056"
      ]
     },
     "execution_count": 29,
     "metadata": {},
     "output_type": "execute_result"
    }
   ],
   "source": [
    "97* 97* 384"
   ]
  },
  {
   "cell_type": "code",
   "execution_count": 31,
   "metadata": {},
   "outputs": [
    {
     "data": {
      "text/plain": [
       "251.0"
      ]
     },
     "execution_count": 31,
     "metadata": {},
     "output_type": "execute_result"
    }
   ],
   "source": [
    "96384/384\n"
   ]
  },
  {
   "cell_type": "code",
   "execution_count": 30,
   "metadata": {},
   "outputs": [
    {
     "data": {
      "text/plain": [
       "98304"
      ]
     },
     "execution_count": 30,
     "metadata": {},
     "output_type": "execute_result"
    }
   ],
   "source": [
    "256 * 384"
   ]
  },
  {
   "cell_type": "code",
   "execution_count": 33,
   "metadata": {},
   "outputs": [
    {
     "name": "stdout",
     "output_type": "stream",
     "text": [
      "torch.Size([1, 384, 6, 6])\n"
     ]
    }
   ],
   "source": [
    "from torch import nn\n",
    "\n",
    "crop_pos_embed = nn.functional.interpolate(\n",
    "    torch.ones((1, 16,16,384)).permute(0, 3, 1, 2),\n",
    "    mode=\"bicubic\",\n",
    "    size=(6, 6),\n",
    ")\n",
    "print(crop_pos_embed.shape)"
   ]
  },
  {
   "cell_type": "code",
   "execution_count": 43,
   "metadata": {},
   "outputs": [
    {
     "name": "stdout",
     "output_type": "stream",
     "text": [
      "torch.Size([1, 36, 384])\n",
      "crop_pos_embed torch.Size([3, 384])\n"
     ]
    }
   ],
   "source": [
    "crop_pos_embed = torch.ones([1, 384, 6, 6])\n",
    "crop_pos_embed = crop_pos_embed.permute(0, 2, 3, 1).view(1, -1, 384)\n",
    "print(crop_pos_embed.shape)\n",
    "# keep only pos_embeds of selected patches\n",
    "crop_pos_embed = torch.index_select(\n",
    "    crop_pos_embed.squeeze(),\n",
    "    dim=0,\n",
    "    index=torch.tensor([1, 3, 10]).long(),\n",
    ")\n",
    "print(f\"crop_pos_embed {crop_pos_embed.shape}\")\n",
    "# torch.cat([class_pos_embed] + crop_pos_embed))"
   ]
  },
  {
   "cell_type": "code",
   "execution_count": 44,
   "metadata": {},
   "outputs": [
    {
     "data": {
      "text/plain": [
       "288.0"
      ]
     },
     "execution_count": 44,
     "metadata": {},
     "output_type": "execute_result"
    }
   ],
   "source": [
    "41.0+53.0+58.0+72.0+64.0"
   ]
  },
  {
   "cell_type": "code",
   "execution_count": null,
   "metadata": {},
   "outputs": [],
   "source": []
  }
 ],
 "metadata": {
  "kernelspec": {
   "display_name": "Python 3",
   "language": "python",
   "name": "python3"
  },
  "language_info": {
   "codemirror_mode": {
    "name": "ipython",
    "version": 3
   },
   "file_extension": ".py",
   "mimetype": "text/x-python",
   "name": "python",
   "nbconvert_exporter": "python",
   "pygments_lexer": "ipython3",
   "version": "3.9.18"
  }
 },
 "nbformat": 4,
 "nbformat_minor": 2
}
